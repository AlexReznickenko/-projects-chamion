{
 "cells": [
  {
   "cell_type": "markdown",
   "metadata": {},
   "source": [
    "## Постановка задачи\n",
    "\n",
    "<b>Заказчик</b><br>\n",
    "Компания GoProtect<br>\n",
    "\n",
    "<b>Описание проекта</b><br>\n",
    "Сервис  “Мой Чемпион” помогает спортивным школам фигурного катания, тренерам мониторить результаты своих подопечных и планировать дальнейшее развитие спортсменов.<br>\n",
    "\n",
    "<b>Цель</b><br>\n",
    "Создать модель, помогающую находить элементы, которые могут быть успешно исполнены спортсменом на соревновании. \n",
    "Сервис будет прогнозировать прогресс и возможное выполнение тех или иных элементов программы по истории предыдущих выступлений и выполнения элементов на соревнованиях.\n",
    "\n",
    "<b>Pipe-line выполнения проекта</b>\n",
    "- Загрузка и объединение данных\n",
    "- Аггрегация отдельных элементов фигурного катания и ошибок\n",
    "- Создание новых признаков\n",
    "- Конечная агреггация датасета\n",
    "- Подготовка к обучению моделей (разделение на тренировочную и тестовую выборки)\n",
    "- Обучение и тестирование моделей\n",
    "- Вывод"
   ]
  },
  {
   "cell_type": "markdown",
   "metadata": {},
   "source": [
    "## Загрузка и объединение данных\n",
    "\n",
    "Загружаем модули"
   ]
  },
  {
   "cell_type": "code",
   "execution_count": 1,
   "metadata": {},
   "outputs": [],
   "source": [
    "import pandas as pd\n",
    "from tqdm.notebook import tqdm\n",
    "import numpy as np\n",
    "\n",
    "from catboost import CatBoostClassifier\n",
    "from sklearn.metrics import accuracy_score, f1_score\n",
    "\n",
    "from sklearn.metrics import precision_score\n",
    "from sklearn.metrics import recall_score\n",
    "from sklearn.metrics import roc_auc_score\n",
    "\n",
    "from sklearn.dummy import DummyClassifier\n",
    "\n",
    "import xgboost as xgb"
   ]
  },
  {
   "cell_type": "markdown",
   "metadata": {},
   "source": [
    "Определяем константы:\n",
    "- TRESHOLD - определяет минимальное количество элементов фигурного катания, которое должно быть выполнено в датасете, чтобы был смысл учитывать его в обучении модели\n",
    "- ACTUAL_PREDICT - определяет столбец, по которому мы будем аггрегировать датасет. Что мы будем предсказывать - выполнение элементов спортсменом за \"выступление\" или на \"турнире\" ? (по умолчанию - на всём турнире)\n",
    "- UNIT_TRESHOLD - минимальное число турниров, на которых должен участвовать спортсмен\n",
    "- STARK_MARK - считать ли элементы со \"звёздочкой\" ошибочно выполненными. По условиям задачи эти элементы не засчитываются судьями, но не обязательно из-за ошибки в самом элементе. Значения только 0 и 1"
   ]
  },
  {
   "cell_type": "code",
   "execution_count": 2,
   "metadata": {},
   "outputs": [],
   "source": [
    "TRESHOLD = 1000\n",
    "#ACTUAL_PREDICT = 'total_score_id'\n",
    "ACTUAL_PREDICT = 'tournament_id'\n",
    "UNIT_TRESHOLD = 3\n",
    "STAR_MARK = 0"
   ]
  },
  {
   "cell_type": "markdown",
   "metadata": {},
   "source": [
    "Загружаем данные"
   ]
  },
  {
   "cell_type": "code",
   "execution_count": 3,
   "metadata": {},
   "outputs": [],
   "source": [
    "total_scores = pd.read_csv('data/total_scores.csv')\n",
    "tournament_scores = pd.read_csv('data/tournament_scores.csv')\n",
    "tournaments = pd.read_csv('data/tournaments.csv')\n",
    "units = pd.read_csv('data/units.csv')"
   ]
  },
  {
   "cell_type": "code",
   "execution_count": 4,
   "metadata": {},
   "outputs": [
    {
     "data": {
      "text/plain": [
       "((21301, 15), (172158, 7), (142, 4), (4596, 3))"
      ]
     },
     "execution_count": 4,
     "metadata": {},
     "output_type": "execute_result"
    }
   ],
   "source": [
    "total_scores.shape, tournament_scores.shape, tournaments.shape, units.shape"
   ]
  },
  {
   "cell_type": "markdown",
   "metadata": {},
   "source": [
    "Перед тем, как делать полноценный обзор данных, нам нужно объединить датасет."
   ]
  },
  {
   "cell_type": "code",
   "execution_count": 5,
   "metadata": {},
   "outputs": [
    {
     "data": {
      "text/plain": [
       "(172158, 26)"
      ]
     },
     "execution_count": 5,
     "metadata": {},
     "output_type": "execute_result"
    }
   ],
   "source": [
    "df = total_scores.copy()\n",
    "df = df.rename(columns = {'id':'total_score_id'})\n",
    "df = df.merge(tournament_scores, on = 'total_score_id')#, how = 'left')\n",
    "tournaments = tournaments.rename(columns = {'id':'tournament_id'})\n",
    "df = df.merge(tournaments, on = 'tournament_id')\n",
    "units = units.rename(columns = {'id':'unit_id'})\n",
    "df = df.merge(units , on = 'unit_id')\n",
    "df.shape"
   ]
  },
  {
   "cell_type": "markdown",
   "metadata": {},
   "source": [
    "Датасет объединён. Теперь посмотрим на него."
   ]
  },
  {
   "cell_type": "code",
   "execution_count": 6,
   "metadata": {},
   "outputs": [
    {
     "name": "stdout",
     "output_type": "stream",
     "text": [
      "<class 'pandas.core.frame.DataFrame'>\n",
      "RangeIndex: 172158 entries, 0 to 172157\n",
      "Data columns (total 26 columns):\n",
      " #   Column               Non-Null Count   Dtype  \n",
      "---  ------               --------------   -----  \n",
      " 0   total_score_id       172158 non-null  int64  \n",
      " 1   unit_id              172158 non-null  int64  \n",
      " 2   tournament_id        172158 non-null  int64  \n",
      " 3   base_score_x         172158 non-null  float64\n",
      " 4   components_score     172158 non-null  float64\n",
      " 5   total_score          172158 non-null  float64\n",
      " 6   elements_score       172158 non-null  float64\n",
      " 7   decreasings_score    172158 non-null  float64\n",
      " 8   starting_place       172158 non-null  int64  \n",
      " 9   place                172158 non-null  int64  \n",
      " 10  segment_name         172115 non-null  object \n",
      " 11  info                 168356 non-null  object \n",
      " 12  overall_place        172158 non-null  int64  \n",
      " 13  overall_total_score  172115 non-null  float64\n",
      " 14  overall_place_str    85946 non-null   object \n",
      " 15  id                   172158 non-null  int64  \n",
      " 16  title                172158 non-null  object \n",
      " 17  decrease             41185 non-null   object \n",
      " 18  base_score_y         172158 non-null  float64\n",
      " 19  goe                  172158 non-null  float64\n",
      " 20  avg_score            172158 non-null  float64\n",
      " 21  date_start           172158 non-null  object \n",
      " 22  date_end             172158 non-null  object \n",
      " 23  origin_id            172158 non-null  float64\n",
      " 24  color                172158 non-null  object \n",
      " 25  school_id            164913 non-null  float64\n",
      "dtypes: float64(11), int64(7), object(8)\n",
      "memory usage: 34.2+ MB\n"
     ]
    }
   ],
   "source": [
    "df.info()"
   ]
  },
  {
   "cell_type": "code",
   "execution_count": 7,
   "metadata": {},
   "outputs": [
    {
     "data": {
      "text/html": [
       "<div>\n",
       "<style scoped>\n",
       "    .dataframe tbody tr th:only-of-type {\n",
       "        vertical-align: middle;\n",
       "    }\n",
       "\n",
       "    .dataframe tbody tr th {\n",
       "        vertical-align: top;\n",
       "    }\n",
       "\n",
       "    .dataframe thead th {\n",
       "        text-align: right;\n",
       "    }\n",
       "</style>\n",
       "<table border=\"1\" class=\"dataframe\">\n",
       "  <thead>\n",
       "    <tr style=\"text-align: right;\">\n",
       "      <th></th>\n",
       "      <th>total_score_id</th>\n",
       "      <th>unit_id</th>\n",
       "      <th>tournament_id</th>\n",
       "      <th>base_score_x</th>\n",
       "      <th>components_score</th>\n",
       "      <th>total_score</th>\n",
       "      <th>elements_score</th>\n",
       "      <th>decreasings_score</th>\n",
       "      <th>starting_place</th>\n",
       "      <th>place</th>\n",
       "      <th>segment_name</th>\n",
       "      <th>info</th>\n",
       "      <th>overall_place</th>\n",
       "      <th>overall_total_score</th>\n",
       "      <th>overall_place_str</th>\n",
       "      <th>id</th>\n",
       "      <th>title</th>\n",
       "      <th>decrease</th>\n",
       "      <th>base_score_y</th>\n",
       "      <th>goe</th>\n",
       "      <th>avg_score</th>\n",
       "      <th>date_start</th>\n",
       "      <th>date_end</th>\n",
       "      <th>origin_id</th>\n",
       "      <th>color</th>\n",
       "      <th>school_id</th>\n",
       "    </tr>\n",
       "  </thead>\n",
       "  <tbody>\n",
       "    <tr>\n",
       "      <th>0</th>\n",
       "      <td>442027</td>\n",
       "      <td>304</td>\n",
       "      <td>4785</td>\n",
       "      <td>47.2</td>\n",
       "      <td>43.47</td>\n",
       "      <td>102.7</td>\n",
       "      <td>59.23</td>\n",
       "      <td>0.0</td>\n",
       "      <td>17</td>\n",
       "      <td>1</td>\n",
       "      <td>Короткая программа</td>\n",
       "      <td>x Надбавка за прыжки во второй половине програ...</td>\n",
       "      <td>2</td>\n",
       "      <td>293.74</td>\n",
       "      <td>2</td>\n",
       "      <td>156223</td>\n",
       "      <td>4Lz</td>\n",
       "      <td>NaN</td>\n",
       "      <td>11.5</td>\n",
       "      <td>3.78</td>\n",
       "      <td>15.28</td>\n",
       "      <td>2091-12-20</td>\n",
       "      <td>2091-12-24</td>\n",
       "      <td>2.0</td>\n",
       "      <td>lime</td>\n",
       "      <td>62.0</td>\n",
       "    </tr>\n",
       "    <tr>\n",
       "      <th>1</th>\n",
       "      <td>442027</td>\n",
       "      <td>304</td>\n",
       "      <td>4785</td>\n",
       "      <td>47.2</td>\n",
       "      <td>43.47</td>\n",
       "      <td>102.7</td>\n",
       "      <td>59.23</td>\n",
       "      <td>0.0</td>\n",
       "      <td>17</td>\n",
       "      <td>1</td>\n",
       "      <td>Короткая программа</td>\n",
       "      <td>x Надбавка за прыжки во второй половине програ...</td>\n",
       "      <td>2</td>\n",
       "      <td>293.74</td>\n",
       "      <td>2</td>\n",
       "      <td>156224</td>\n",
       "      <td>4S+3T</td>\n",
       "      <td>NaN</td>\n",
       "      <td>13.9</td>\n",
       "      <td>2.49</td>\n",
       "      <td>16.39</td>\n",
       "      <td>2091-12-20</td>\n",
       "      <td>2091-12-24</td>\n",
       "      <td>2.0</td>\n",
       "      <td>lime</td>\n",
       "      <td>62.0</td>\n",
       "    </tr>\n",
       "    <tr>\n",
       "      <th>2</th>\n",
       "      <td>442027</td>\n",
       "      <td>304</td>\n",
       "      <td>4785</td>\n",
       "      <td>47.2</td>\n",
       "      <td>43.47</td>\n",
       "      <td>102.7</td>\n",
       "      <td>59.23</td>\n",
       "      <td>0.0</td>\n",
       "      <td>17</td>\n",
       "      <td>1</td>\n",
       "      <td>Короткая программа</td>\n",
       "      <td>x Надбавка за прыжки во второй половине програ...</td>\n",
       "      <td>2</td>\n",
       "      <td>293.74</td>\n",
       "      <td>2</td>\n",
       "      <td>156225</td>\n",
       "      <td>FCSp4</td>\n",
       "      <td>NaN</td>\n",
       "      <td>3.2</td>\n",
       "      <td>0.87</td>\n",
       "      <td>4.07</td>\n",
       "      <td>2091-12-20</td>\n",
       "      <td>2091-12-24</td>\n",
       "      <td>2.0</td>\n",
       "      <td>lime</td>\n",
       "      <td>62.0</td>\n",
       "    </tr>\n",
       "  </tbody>\n",
       "</table>\n",
       "</div>"
      ],
      "text/plain": [
       "   total_score_id  unit_id  tournament_id  base_score_x  components_score  \\\n",
       "0          442027      304           4785          47.2             43.47   \n",
       "1          442027      304           4785          47.2             43.47   \n",
       "2          442027      304           4785          47.2             43.47   \n",
       "\n",
       "   total_score  elements_score  decreasings_score  starting_place  place  \\\n",
       "0        102.7           59.23                0.0              17      1   \n",
       "1        102.7           59.23                0.0              17      1   \n",
       "2        102.7           59.23                0.0              17      1   \n",
       "\n",
       "         segment_name                                               info  \\\n",
       "0  Короткая программа  x Надбавка за прыжки во второй половине програ...   \n",
       "1  Короткая программа  x Надбавка за прыжки во второй половине програ...   \n",
       "2  Короткая программа  x Надбавка за прыжки во второй половине програ...   \n",
       "\n",
       "   overall_place  overall_total_score overall_place_str      id  title  \\\n",
       "0              2               293.74                 2  156223    4Lz   \n",
       "1              2               293.74                 2  156224  4S+3T   \n",
       "2              2               293.74                 2  156225  FCSp4   \n",
       "\n",
       "  decrease  base_score_y   goe  avg_score  date_start    date_end  origin_id  \\\n",
       "0      NaN          11.5  3.78      15.28  2091-12-20  2091-12-24        2.0   \n",
       "1      NaN          13.9  2.49      16.39  2091-12-20  2091-12-24        2.0   \n",
       "2      NaN           3.2  0.87       4.07  2091-12-20  2091-12-24        2.0   \n",
       "\n",
       "  color  school_id  \n",
       "0  lime       62.0  \n",
       "1  lime       62.0  \n",
       "2  lime       62.0  "
      ]
     },
     "execution_count": 7,
     "metadata": {},
     "output_type": "execute_result"
    }
   ],
   "source": [
    "pd.set_option('display.max_columns', None) \n",
    "df.head(3)"
   ]
  },
  {
   "cell_type": "markdown",
   "metadata": {},
   "source": [
    "У нас есть две колонки с датами. Мы видим, что года там проставлены неадекватно, но по условию задачи так и должно быть - года сдвинуты. Переведём дату в дату, а затем создадим числовые признаки "
   ]
  },
  {
   "cell_type": "code",
   "execution_count": 8,
   "metadata": {},
   "outputs": [
    {
     "data": {
      "text/plain": [
       "(Timestamp('2092-04-29 00:00:00'), Timestamp('2092-05-03 00:00:00'))"
      ]
     },
     "execution_count": 8,
     "metadata": {},
     "output_type": "execute_result"
    }
   ],
   "source": [
    "#Переводим даты в даты\n",
    "df['date_start'] = pd.to_datetime(df.date_start, format='%Y-%m-%d', errors = 'coerce')\n",
    "df['date_end'] = pd.to_datetime(df.date_end, format='%Y-%m-%d', errors = 'coerce')\n",
    "#Смотрим на самую большую дату\n",
    "df['date_start'].max(), df['date_end'].max()"
   ]
  },
  {
   "cell_type": "markdown",
   "metadata": {},
   "source": [
    "Теперь создадим признаки - сколько дней прошло с начала и конца турнира. Отсчитывать будем от самой большой даты - то есть от 2092-05-03"
   ]
  },
  {
   "cell_type": "code",
   "execution_count": 9,
   "metadata": {},
   "outputs": [
    {
     "data": {
      "text/plain": [
       "(  date_start  days_start  days_end  days\n",
       " 0 2091-12-20         135       131     4\n",
       " 1 2091-12-20         135       131     4\n",
       " 2 2091-12-20         135       131     4,\n",
       "        date_start  days_start  days_end  days\n",
       " 172155 2091-12-06         149       149     0\n",
       " 172156 2091-12-06         149       149     0\n",
       " 172157 2091-12-06         149       149     0)"
      ]
     },
     "execution_count": 9,
     "metadata": {},
     "output_type": "execute_result"
    }
   ],
   "source": [
    "#Создаём числовые признаки из дат\n",
    "df['days_start'] = (pd.to_datetime('2092-05-03', format='%Y-%m-%d') - df['date_start']).dt.days\n",
    "df['days_end'] = (pd.to_datetime('2092-05-03', format='%Y-%m-%d') - df['date_end']).dt.days\n",
    "#Признак - сколько длился турнир\n",
    "df['days'] = df['days_start'] - df['days_end']\n",
    "#Выведем три первые записи\n",
    "df[['date_start', 'days_start','days_end','days']].head(3), df[['date_start', 'days_start','days_end','days']].tail(3)"
   ]
  },
  {
   "cell_type": "markdown",
   "metadata": {},
   "source": [
    "Посмотрим на пропуски"
   ]
  },
  {
   "cell_type": "code",
   "execution_count": 10,
   "metadata": {},
   "outputs": [
    {
     "data": {
      "text/plain": [
       "''"
      ]
     },
     "execution_count": 10,
     "metadata": {},
     "output_type": "execute_result"
    },
    {
     "data": {
      "image/png": "[encoded data removed]",
      "text/plain": [
       "<Figure size 1200x300 with 1 Axes>"
      ]
     },
     "metadata": {},
     "output_type": "display_data"
    }
   ],
   "source": [
    "#Вычислим процентное соотношение пропусков \n",
    "na_values_percent = ((df.isna().sum() / len(df))*100).to_frame().rename(columns = {0:'na_values_percent'}).sort_values(by = 'na_values_percent', ascending = False)\n",
    "na_values_percent = na_values_percent.query('na_values_percent > 0').round(2)\n",
    "#Построим график с процентным соотношением пропусков\n",
    "na_values_percent.plot.bar(figsize = (12,3))\n",
    ";"
   ]
  },
  {
   "cell_type": "markdown",
   "metadata": {},
   "source": [
    "И в числовом виде (числа означают процент пропусков)"
   ]
  },
  {
   "cell_type": "code",
   "execution_count": 11,
   "metadata": {},
   "outputs": [
    {
     "data": {
      "text/html": [
       "<div>\n",
       "<style scoped>\n",
       "    .dataframe tbody tr th:only-of-type {\n",
       "        vertical-align: middle;\n",
       "    }\n",
       "\n",
       "    .dataframe tbody tr th {\n",
       "        vertical-align: top;\n",
       "    }\n",
       "\n",
       "    .dataframe thead th {\n",
       "        text-align: right;\n",
       "    }\n",
       "</style>\n",
       "<table border=\"1\" class=\"dataframe\">\n",
       "  <thead>\n",
       "    <tr style=\"text-align: right;\">\n",
       "      <th></th>\n",
       "      <th>decrease</th>\n",
       "      <th>overall_place_str</th>\n",
       "      <th>school_id</th>\n",
       "      <th>info</th>\n",
       "      <th>segment_name</th>\n",
       "      <th>overall_total_score</th>\n",
       "    </tr>\n",
       "  </thead>\n",
       "  <tbody>\n",
       "    <tr>\n",
       "      <th>na_values_percent</th>\n",
       "      <td>76.08</td>\n",
       "      <td>50.08</td>\n",
       "      <td>4.21</td>\n",
       "      <td>2.21</td>\n",
       "      <td>0.02</td>\n",
       "      <td>0.02</td>\n",
       "    </tr>\n",
       "  </tbody>\n",
       "</table>\n",
       "</div>"
      ],
      "text/plain": [
       "                   decrease  overall_place_str  school_id  info  segment_name  \\\n",
       "na_values_percent     76.08              50.08       4.21  2.21          0.02   \n",
       "\n",
       "                   overall_total_score  \n",
       "na_values_percent                 0.02  "
      ]
     },
     "execution_count": 11,
     "metadata": {},
     "output_type": "execute_result"
    }
   ],
   "source": [
    "na_values_percent.transpose()"
   ]
  },
  {
   "cell_type": "markdown",
   "metadata": {},
   "source": [
    "Мы видим, что больше всего пропусков в переменных decrease и overall_place_str. Признак decrease мы сможем использовать, превратив в бинарный признак. Нули будут означать пропуски, единицы - где есть текст.\n",
    " При том, мы будем считать под ними те, которые не являются айдишниками. Пока мы исследуем датасет, нам не нужно убирать пропуски, сделаем обработку данных позже. Пока посмотрим на выбросы. Для дальнейшего анализа, нам надо выделить числовые переменные."
   ]
  },
  {
   "cell_type": "code",
   "execution_count": 12,
   "metadata": {},
   "outputs": [
    {
     "data": {
      "text/plain": [
       "['segment_name', 'info', 'overall_place_str', 'title', 'decrease', 'color']"
      ]
     },
     "execution_count": 12,
     "metadata": {},
     "output_type": "execute_result"
    }
   ],
   "source": [
    "num_cols = [] #Список с числовыми колонками\n",
    "cat_cols = [] #Список с категориальными колонками\n",
    "id_cols = [] #Список с айдишниками\n",
    "\n",
    "for i in df.columns:\n",
    "    if df[i].dtype == 'object':\n",
    "        cat_cols.append(i) #Сюда занисим всё, что является объектом\n",
    "    else:\n",
    "        if 'id' in i: \n",
    "            id_cols.append(i) #Сюда всё, что является ID\n",
    "        else:\n",
    "            num_cols.append(i) #Сюда числовые колонки\n",
    "\n",
    "cat_cols"
   ]
  },
  {
   "cell_type": "markdown",
   "metadata": {},
   "source": [
    "Построим ящики с усами"
   ]
  },
  {
   "cell_type": "code",
   "execution_count": 13,
   "metadata": {},
   "outputs": [
    {
     "data": {
      "text/plain": [
       "<Axes: >"
      ]
     },
     "execution_count": 13,
     "metadata": {},
     "output_type": "execute_result"
    },
    {
     "data": {
      "image/png": "[encoded data removed]",
      "text/plain": [
       "<Figure size 2200x600 with 1 Axes>"
      ]
     },
     "metadata": {},
     "output_type": "display_data"
    }
   ],
   "source": [
    "df[num_cols].plot.box(figsize = (22,6), rot = 90)"
   ]
  },
  {
   "cell_type": "code",
   "execution_count": 14,
   "metadata": {},
   "outputs": [
    {
     "data": {
      "text/plain": [
       "<Axes: >"
      ]
     },
     "execution_count": 14,
     "metadata": {},
     "output_type": "execute_result"
    },
    {
     "data": {
      "image/png": "[encoded data removed]",
      "text/plain": [
       "<Figure size 2200x600 with 1 Axes>"
      ]
     },
     "metadata": {},
     "output_type": "display_data"
    }
   ],
   "source": [
    "df[id_cols].plot.box(figsize = (22,6), rot = 90)"
   ]
  },
  {
   "cell_type": "markdown",
   "metadata": {},
   "source": [
    "### Выделение элементов фигурного катания"
   ]
  },
  {
   "cell_type": "markdown",
   "metadata": {},
   "source": [
    "Согласно техническому заданию, нам нужно выделить элементы фигурного катания. В таблице они даны ввиде строки и имеют примерно следующий вид : 2F!<<+2Lo<<CCoSp2V*\n",
    "Плюсы означают комбинацию элементов. Также, в элементах множество доролнительных обозначений, которые, чаще всего, обозначают ошибки. Наша задача как раз выявить элементы с ошибками."
   ]
  },
  {
   "cell_type": "code",
   "execution_count": 15,
   "metadata": {},
   "outputs": [
    {
     "data": {
      "text/plain": [
       "3425"
      ]
     },
     "execution_count": 15,
     "metadata": {},
     "output_type": "execute_result"
    }
   ],
   "source": [
    "len(df.title.unique())"
   ]
  },
  {
   "cell_type": "markdown",
   "metadata": {},
   "source": [
    "Всего мы наблюдаем 3425 уникальных записей, но многие из них уникальны из-за того, что являются комбинацией. Кстати, длина комбинации может быть полезным признаком"
   ]
  },
  {
   "cell_type": "code",
   "execution_count": 16,
   "metadata": {},
   "outputs": [
    {
     "data": {
      "text/plain": [
       "<Axes: xlabel='combo'>"
      ]
     },
     "execution_count": 16,
     "metadata": {},
     "output_type": "execute_result"
    },
    {
     "data": {
      "image/png": "[encoded data removed]",
      "text/plain": [
       "<Figure size 600x400 with 1 Axes>"
      ]
     },
     "metadata": {},
     "output_type": "display_data"
    }
   ],
   "source": [
    "def combo_len(text):\n",
    "    q = len(text.split('+'))\n",
    "    return q\n",
    "\n",
    "df['combo'] = df['title'].apply(combo_len)\n",
    "df['combo'].value_counts().plot(kind = 'bar', rot = 0, figsize = (6,4))"
   ]
  },
  {
   "cell_type": "markdown",
   "metadata": {},
   "source": [
    "Мы видим, что чаще всего комбинация состоит из 1 или 2 элементов. Остальное встречается реже (5 - из-за дополнительных меток, фактически не бывает)"
   ]
  },
  {
   "cell_type": "code",
   "execution_count": 17,
   "metadata": {},
   "outputs": [],
   "source": [
    "df_old = df.copy()"
   ]
  },
  {
   "cell_type": "markdown",
   "metadata": {},
   "source": [
    "Нам нужно понять, сколько всего уникальных элементов без учёта их сочетаний. "
   ]
  },
  {
   "cell_type": "code",
   "execution_count": 18,
   "metadata": {},
   "outputs": [
    {
     "name": "stdout",
     "output_type": "stream",
     "text": [
      "Первые пять элементов списка : ['2F!', '2Sq*', '1Fq', 'CSpB', '3T*']\n",
      "Количество уникальных элементов: 412\n"
     ]
    }
   ],
   "source": [
    "fints = list(df['title'].unique()) #Переменная со всеми уникальными значениями (даже с учётом комбо)\n",
    "fints_unique = [] #Переменная для хранения уникальных значений без учёта комбо \n",
    "\n",
    "for i in fints: # Проходим по уникальным значениям\n",
    "    text = i.split('+') # Раделяем комбо по плюсику\n",
    "    if len(text) == 1: #Если значение только одно, т.е. это не комбо - сразу добавляем его в список\n",
    "        fints_unique.append(i)\n",
    "    else: #В противном случае проходимся по получившимуся списку и добавляем каждый элемент\n",
    "        for i2 in text:\n",
    "            fints_unique.append(i2)\n",
    "\n",
    "#Elfkztv le,kbrfns\n",
    "fints_unique = list(set(fints_unique))\n",
    "print(f\"Первые пять элементов списка : {fints_unique[:5]}\") \n",
    "print(f\"Количество уникальных элементов: {len(fints_unique)}\")\n"
   ]
  },
  {
   "cell_type": "markdown",
   "metadata": {},
   "source": [
    "У нас есть 412 уникальных элемента. Многие из них получены как раз за счёт ошибок. Нам нужно научиться отделять сам элемент от дополнительной метки ошибки. \n",
    "\n",
    "Но для начала нам надо написать вспомогательную функцию. Дело в том, что в датасете есть элементы, которые записаны как бы латинскими буквами, но среди них есть русская, на глаз не различимая с английской (по типу буквы \"Е\")."
   ]
  },
  {
   "cell_type": "code",
   "execution_count": 19,
   "metadata": {},
   "outputs": [],
   "source": [
    "# Функция, которая меняет неразличимые русские буквы на их английские аналоги (если они есть в слове)\n",
    "def wors_to_abc(text):\n",
    "    new_text = text\n",
    "    new_text = new_text.replace('а','a')\n",
    "    new_text = new_text.replace('А','A')\n",
    "    new_text = new_text.replace('с','c')\n",
    "    new_text = new_text.replace('С','C')\n",
    "    new_text = new_text.replace('е','e')\n",
    "    new_text = new_text.replace('Е','E')\n",
    "    new_text = new_text.replace('В','B')\n",
    "    new_text = new_text.replace('Т','T')\n",
    "    new_text = new_text.replace('о','o')\n",
    "    new_text = new_text.replace('О','O')\n",
    "    new_text = new_text.replace('Ssp2','SSp2')\n",
    "    return new_text"
   ]
  },
  {
   "cell_type": "code",
   "execution_count": 20,
   "metadata": {},
   "outputs": [],
   "source": [
    "# Функция, которая обработает целый список\n",
    "def list_to_abc(input_list):\n",
    "    output_list = []\n",
    "    for i in input_list:\n",
    "        output_list.append(wors_to_abc(i))\n",
    "    return output_list"
   ]
  },
  {
   "cell_type": "markdown",
   "metadata": {},
   "source": [
    "### Создание списков элементов фигурного катания\n",
    "\n",
    "Согласно техническому заданию, у нас есть pdf-документ, в котором находятся все исследуемые нами элементы. Однако, нужно учесть некоторую специфику, о которой речь пойдёт ниже. Элементы делятся на прыжки, вращения и шаги.\n",
    "\n",
    "Сначала рассмотрим прыжки"
   ]
  },
  {
   "cell_type": "code",
   "execution_count": 21,
   "metadata": {},
   "outputs": [],
   "source": [
    "text_jumps = '''1T Single Toeloop\n",
    "1S Single Salchow\n",
    "1Lo Single Loop\n",
    "1Eu Single Euler (only used in jump combinations)\n",
    "1F Single Flip\n",
    "1Lz Single Lutz\n",
    "1A Single Axel\n",
    "2T Double Toeloop\n",
    "2S Double Salchow\n",
    "2Lo Double Loop\n",
    "2F Double Flip\n",
    "2Lz Double Lutz\n",
    "2A Double Axel\n",
    "3T Triple Toeloop\n",
    "3S Triple Salchow\n",
    "3Lo Triple Loop\n",
    "3F Triple Flip\n",
    "3Lz Triple Lutz\n",
    "3A Triple Axel\n",
    "4T Quad. Toeloop\n",
    "4S Quad. Salchow\n",
    "4Lo Quad. Loop\n",
    "4F Quad. Flip\n",
    "4Lz Quad. Lutz\n",
    "4A Quad. Axel'''"
   ]
  },
  {
   "cell_type": "markdown",
   "metadata": {},
   "source": [
    "Мы загрузили сырой текст. Приведём его в список самих элементов. "
   ]
  },
  {
   "cell_type": "code",
   "execution_count": 22,
   "metadata": {},
   "outputs": [],
   "source": [
    "jumps = [] # Просто возьмём первое слово с каждой строки\n",
    "for i in text_jumps.split('\\n'):\n",
    "    jumps.append(i.split(' ')[0])\n"
   ]
  },
  {
   "cell_type": "markdown",
   "metadata": {},
   "source": [
    "Прыжки имеют цифру в начале, например 3Lz. В техническом задании сказано, что прыжки могут и не иметь цифры в начале, так что дополним список."
   ]
  },
  {
   "cell_type": "code",
   "execution_count": 23,
   "metadata": {},
   "outputs": [],
   "source": [
    "all_jumps = [] #Инициализируем дополненный список со всеми прыжками\n",
    "for i in jumps:\n",
    "    all_jumps.append(i) #Добавляем оригинальные прыжки\n",
    "    all_jumps.append(i[1:]) #Добавляем прыжки без цифры"
   ]
  },
  {
   "cell_type": "markdown",
   "metadata": {},
   "source": [
    "Теперь загрузим вращения"
   ]
  },
  {
   "cell_type": "code",
   "execution_count": 24,
   "metadata": {},
   "outputs": [],
   "source": [
    "text_spins = '''USp Upright Spin\n",
    "LSp Layback Spin\n",
    "CSp Camel Spin\n",
    "SSp Sit Spin\n",
    "FUSp Flying Upright Spin\n",
    "FLSp Flying Layback Spin\n",
    "FCSp Flying Camel Spin\n",
    "FSSp Flying Sit Spin\n",
    "CUSp Change Foot Upright Spin\n",
    "CLSp Change Foot Layback Spin\n",
    "CCSp Change Foot Camel Spin\n",
    "CSSp Change Foot Sit Spin\n",
    "FCUSp Flying Change Foot Upright Spin\n",
    "FCLSp Flying Change Foot Layback Spin\n",
    "FCCSp Flying Change Foot Camel Spin\n",
    "FCSSp Flying Change Foot Sit Spin\n",
    "CoSp Combination Spin no change of foot\n",
    "CCoSp Change Foot Combination Spin\n",
    "FCoSp Flying Combination Spin no change of foot\n",
    "FCCoSp Flying Change Foot Comb. Spin\n",
    "Sp'''"
   ]
  },
  {
   "cell_type": "markdown",
   "metadata": {},
   "source": [
    "Также приведём текст к списку элементов"
   ]
  },
  {
   "cell_type": "code",
   "execution_count": 25,
   "metadata": {},
   "outputs": [],
   "source": [
    "spins = []\n",
    "for i in text_spins.split('\\n'):\n",
    "    spins.append(i.split(' ')[0])\n",
    "all_spins = []"
   ]
  },
  {
   "cell_type": "markdown",
   "metadata": {},
   "source": [
    "В техническом задании сказано, что к поворотам может быть приставлена буква B и цифры от 1 до 4. Добавим это в наш список."
   ]
  },
  {
   "cell_type": "code",
   "execution_count": 26,
   "metadata": {},
   "outputs": [],
   "source": [
    "for i in spins:\n",
    "    all_spins.append(i)\n",
    "    all_spins.append(i + 'B')\n",
    "    all_spins.append(i + '1')\n",
    "    all_spins.append(i + '2')\n",
    "    all_spins.append(i + '3')\n",
    "    all_spins.append(i + '4') "
   ]
  },
  {
   "cell_type": "markdown",
   "metadata": {},
   "source": [
    "Теперь обработаем шаги. Их всего два."
   ]
  },
  {
   "cell_type": "code",
   "execution_count": 27,
   "metadata": {},
   "outputs": [],
   "source": [
    "\n",
    "text_steps = '''StSq Step Sequence\n",
    "ChSq Choreo Sequence'''"
   ]
  },
  {
   "cell_type": "markdown",
   "metadata": {},
   "source": [
    "Преобразуем в список"
   ]
  },
  {
   "cell_type": "code",
   "execution_count": 28,
   "metadata": {},
   "outputs": [],
   "source": [
    "steps = []\n",
    "for i in text_steps.split('\\n'):\n",
    "    steps.append(i.split(' ')[0])"
   ]
  },
  {
   "cell_type": "markdown",
   "metadata": {},
   "source": [
    "К шагам также могут быть прибавлены цифры и буква B"
   ]
  },
  {
   "cell_type": "code",
   "execution_count": 29,
   "metadata": {},
   "outputs": [],
   "source": [
    "all_steps = []\n",
    "for i in steps:\n",
    "    all_steps.append(i)\n",
    "    all_steps.append(i + 'B')\n",
    "    all_steps.append(i + '1')\n",
    "    all_steps.append(i + '2')\n",
    "    all_steps.append(i + '3')\n",
    "    all_steps.append(i + '4') "
   ]
  },
  {
   "cell_type": "markdown",
   "metadata": {},
   "source": [
    "Теперь объединим наши списки в общий список элементов"
   ]
  },
  {
   "cell_type": "code",
   "execution_count": 30,
   "metadata": {},
   "outputs": [],
   "source": [
    "all_fints = all_jumps + all_spins + all_steps +['SEQ']\n",
    "all_fints = list(set(all_fints))"
   ]
  },
  {
   "cell_type": "markdown",
   "metadata": {},
   "source": [
    "Обработаем список элементов и список всех уникальных значений из столбца, чтобы убрать русские буквы"
   ]
  },
  {
   "cell_type": "code",
   "execution_count": 31,
   "metadata": {},
   "outputs": [],
   "source": [
    "all_fints = list_to_abc(all_fints)\n",
    "fints_unique = list_to_abc(fints_unique)"
   ]
  },
  {
   "cell_type": "markdown",
   "metadata": {},
   "source": [
    "Посмотрим сколько всего уникальных элементов в датасете, и сколько у нас есть элементов в списке."
   ]
  },
  {
   "cell_type": "code",
   "execution_count": 32,
   "metadata": {},
   "outputs": [
    {
     "name": "stdout",
     "output_type": "stream",
     "text": [
      "Уникальных элементов в датасете: 412\n",
      "Уникальных элементов фигурного катания: 171\n",
      "Разница: 241\n"
     ]
    }
   ],
   "source": [
    "print(f\"Уникальных элементов в датасете: {len(fints_unique)}\")\n",
    "print(f\"Уникальных элементов фигурного катания: {len(all_fints)}\")\n",
    "print(f\"Разница: {len(fints_unique) -len(all_fints) }\")"
   ]
  },
  {
   "cell_type": "markdown",
   "metadata": {},
   "source": [
    "Мы видим, что в датасете на 230 элементов больше. Это связано с пометками об ошибках, как раз то, что нам нужно. Нам нужно убедиться, что мы действительно получили все необходимые элементы, а также, найти все виды пометок об ошибках исполнения. "
   ]
  },
  {
   "cell_type": "markdown",
   "metadata": {},
   "source": [
    "### Проверка элементов\n",
    "Мы получили список элементов (которые нам дан в ТЗ). Нужно рассортировать его по длине строки, причём, в порядке убывания."
   ]
  },
  {
   "cell_type": "code",
   "execution_count": 33,
   "metadata": {},
   "outputs": [],
   "source": [
    "all_fints.sort(key=lambda s: len(s)) #Сортируем список по длине строки\n",
    "all_fints.reverse()#Переворачиваем список, чтобы сначала шли длинные"
   ]
  },
  {
   "cell_type": "markdown",
   "metadata": {},
   "source": [
    "В нашем датасете теоретически могут быть три типа элементов:\n",
    "- 1.Полностью совпадающие с нашими элементами\n",
    "- 2.Частично совпадающие с нашими элементами, то есть в конце будет ещё какая-то метка\n",
    "- 3.Полностью несовпадающие с нашими элементами\n",
    "\n",
    "Следуя нашей гипотезе, элементы второго типа - это ошибки. Чтобы проверить это мы получим их \"хвосты\" и посмотрим на них.\n",
    "\n",
    "Третьи - это возможные неучтённые элементы и нам нужно проверить их наличие.\n",
    "\n"
   ]
  },
  {
   "cell_type": "code",
   "execution_count": 34,
   "metadata": {},
   "outputs": [],
   "source": [
    "tails_and_unknown = [] #Инициализируем список \"хвостом\" и неизвестных элементов\n",
    "tails = [] #Инициализиоруем список только \"хвостов\"\n",
    "\n",
    "#Проходим по всему списку уникальных в датасете\n",
    "for i in fints_unique:\n",
    "    text = i \n",
    "    for i2 in all_fints: #Проходимся по списку наших элементов (которые из ТЗ)\n",
    "        finded = i.find(i2)\n",
    "        #Ищем вхождение подстроки, состоящей из нашего элемента в уникальный элемент\n",
    "        #Дальнейшие действия проводим, только если подстрока входит с начала\n",
    "        if finded == 0:\n",
    "            #Удаляем подстроку, состоящую из нашего элемента\n",
    "            text = text.replace(i2, '')\n",
    "            #Если строка не пустая, это значит, что в остался \"хвост\". В случае незнакомого элемента действие вообще выполнено не будет (так как finded будет равна -1)\n",
    "            if len(text) > 0:\n",
    "                tails.append(text)\n",
    "                \n",
    "    tails_and_unknown.append(text) #Сюда пойдут обработанные элементы (то есть, \"хвосты\" и пустые строки), а также неизвестные элементы\n",
    "\n",
    "\n",
    "#Убираем дубликаты из наших списков\n",
    "tails_and_unknown = list(set(tails_and_unknown))\n",
    "tails = list(set(tails))\n"
   ]
  },
  {
   "cell_type": "markdown",
   "metadata": {},
   "source": [
    "Мы получили списки \"хвостов\" и неизвестных элементов. Посмотрим на неизвестные элементы"
   ]
  },
  {
   "cell_type": "code",
   "execution_count": 35,
   "metadata": {},
   "outputs": [
    {
     "data": {
      "text/plain": [
       "{'', '1W', 'COMBO', 'COMBO*', 'ChSpl', 'ChSpl1', 'REP'}"
      ]
     },
     "execution_count": 35,
     "metadata": {},
     "output_type": "execute_result"
    }
   ],
   "source": [
    "unknown_elements = set(tails_and_unknown) - set(tails)\n",
    "unknown_elements"
   ]
  },
  {
   "cell_type": "markdown",
   "metadata": {},
   "source": []
  },
  {
   "cell_type": "markdown",
   "metadata": {},
   "source": [
    "COMBO, COMBO* и REP - ошибки сами по себе, являющиеся элементом. Потому они и не попали в список наших элементов. Посмотрим сколько остальных."
   ]
  },
  {
   "cell_type": "code",
   "execution_count": 36,
   "metadata": {},
   "outputs": [
    {
     "name": "stdout",
     "output_type": "stream",
     "text": [
      "Название неизвестного элемента: ChSpl1, встречается в датасете 1588 раза\n",
      "Название неизвестного элемента: REP, встречается в датасете 896 раза\n",
      "Название неизвестного элемента: 1W, встречается в датасете 3 раза\n",
      "Название неизвестного элемента: COMBO*, встречается в датасете 29 раза\n",
      "Название неизвестного элемента: ChSpl, встречается в датасете 1717 раза\n",
      "Название неизвестного элемента: COMBO, встречается в датасете 1287 раза\n"
     ]
    }
   ],
   "source": [
    "for i in list(unknown_elements)[1:]:\n",
    "    print(f\"Название неизвестного элемента: {i}, встречается в датасете {len(df[df['title'].str.contains(i, regex = False)])} раза\")\n",
    "\n"
   ]
  },
  {
   "cell_type": "markdown",
   "metadata": {},
   "source": [
    "1W - элемент, который встречается всего три раза. Очевидно, этого недостаточно для обучения модели. В будущим мы удалим эти записи. ChSpl и ChSpl1 - хореографические элементы. \n",
    "\n",
    "Добавим в список новые элементы"
   ]
  },
  {
   "cell_type": "code",
   "execution_count": 37,
   "metadata": {},
   "outputs": [],
   "source": [
    "all_fints += ['COMBO', 'REP', 'ChSpl','ChSpl1', '1W']"
   ]
  },
  {
   "cell_type": "markdown",
   "metadata": {},
   "source": [
    "Заново отсортируем список всех элементов"
   ]
  },
  {
   "cell_type": "code",
   "execution_count": 38,
   "metadata": {},
   "outputs": [],
   "source": [
    "all_fints.sort(key=lambda s: len(s)) #Сортируем список по длине строки\n",
    "all_fints.reverse()#Переворачиваем список, чтобы сначала шли длинные"
   ]
  },
  {
   "cell_type": "markdown",
   "metadata": {},
   "source": [
    "\n",
    "\n",
    "Посмотрим на оставшиеся хвосты"
   ]
  },
  {
   "cell_type": "code",
   "execution_count": 39,
   "metadata": {},
   "outputs": [
    {
     "name": "stdout",
     "output_type": "stream",
     "text": [
      "e*, <<, V, V*, q, !q, e, <, e<<, e<*, eq, <*, !<, q*, <<*, !<*, !q*, e<, !, !*, *, !<<, !<<*, *<, "
     ]
    }
   ],
   "source": [
    "#Напечатаем список так, чтобы он поместился в строку, а не в столбик\n",
    "for i in tails:\n",
    "    print(i, end = ', ')"
   ]
  },
  {
   "cell_type": "markdown",
   "metadata": {},
   "source": [
    "Это действительно похоже на ошибки, о которых сказано в ТЗ. Ssp2 - очевидно опечатка и имелось в виду SSp2 "
   ]
  },
  {
   "cell_type": "markdown",
   "metadata": {},
   "source": [
    "### Вывод\n",
    "\n",
    "Мы загрузили и объединили датасет, а также исследовали элементы фигурного катания, которые записаны в колонке \"title\". Мы смогли составить правильный список элементов фигурного катания и убедились, что в датасете представлены именно они . Также мы определили набор ошибок, с которым нам предстоит работать. Теперь наша задача преобразовать сам датасет.\n",
    "\n",
    "## Подготовка данных"
   ]
  },
  {
   "cell_type": "markdown",
   "metadata": {},
   "source": [
    "Для начала нам нужно просто разделить элементы"
   ]
  },
  {
   "cell_type": "code",
   "execution_count": 40,
   "metadata": {},
   "outputs": [
    {
     "name": "stdout",
     "output_type": "stream",
     "text": [
      "После разделения датасет стал длиннее на 51011 строк\n"
     ]
    }
   ],
   "source": [
    "#Превращаем все комбинации в отдельные строки\n",
    "df= df.assign(title=df.title.str.split(\"+\")).explode('title') \n",
    "print(f\"После разделения датасет стал длиннее на {len(df) - len(df_old)} строк\")"
   ]
  },
  {
   "cell_type": "markdown",
   "metadata": {},
   "source": [
    "Теперь нам нужно отделить сами элементы и их \"хвосты\". Напишем вспомогательную функцию. Она будет возвращать название элемента (без \"хвоста\"), маркер наличия ошибки и саму ошибку. Также запишем дополнительные признаки - были ли метки *, COMBO и так далее."
   ]
  },
  {
   "cell_type": "code",
   "execution_count": 41,
   "metadata": {},
   "outputs": [],
   "source": [
    "def set_elemet_and_mark(text):\n",
    "    mark = 1\n",
    "    star = 0\n",
    "    err = 'NOT'\n",
    "    is_combo = 0\n",
    "    seq = 0\n",
    "    rep = 0\n",
    "    text_element = 'err'\n",
    "    text = wors_to_abc(text) # конвертируем текст\n",
    "    for i in all_fints: # Перебираем все элементы\n",
    "        finded = text.find(i)\n",
    "        if finded == 0:\n",
    "            text_element = i\n",
    "            err = text.replace(i,'') # Заполняем столбец с ошибкой\n",
    "            if err == '':\n",
    "                err = 'NOT' # Помечаем, что ошибки нет\n",
    "            if err == '*':\n",
    "                mark = STAR_MARK\n",
    "                star = 1\n",
    "            if len(text.replace(i,'')) == 0: # Если ошибки нет, то ставим метку что ошибки нет\n",
    "                mark = 0\n",
    "            # Заполняем дополнительные признаки\n",
    "            if text_element == 'COMBO':\n",
    "                is_combo = 1\n",
    "            if text_element == 'REP':\n",
    "                rep = 1\n",
    "            if text_element == 'SEQ':\n",
    "                seq = 1\n",
    "\n",
    "            break\n",
    "\n",
    "    return text_element, mark, err, star, is_combo, rep, seq"
   ]
  },
  {
   "cell_type": "markdown",
   "metadata": {},
   "source": [
    "Применим функцию к датасету"
   ]
  },
  {
   "cell_type": "code",
   "execution_count": 42,
   "metadata": {},
   "outputs": [],
   "source": [
    "tqdm.pandas() #Для отображения полоски прогресса"
   ]
  },
  {
   "cell_type": "code",
   "execution_count": 43,
   "metadata": {},
   "outputs": [],
   "source": [
    "#Применяем функцию, создавая два новых столбца\n",
    "def apply_and_concat(dataframe, field, func, column_names):\n",
    "    return pd.concat((\n",
    "        dataframe,\n",
    "        dataframe[field].progress_apply(\n",
    "            lambda cell: pd.Series(func(cell), index=column_names))), axis=1)"
   ]
  },
  {
   "cell_type": "code",
   "execution_count": 44,
   "metadata": {},
   "outputs": [
    {
     "data": {
      "application/vnd.jupyter.widget-view+json": {
       "model_id": "a3fb42d29a5b4ace9e878268259deba1",
       "version_major": 2,
       "version_minor": 0
      },
      "text/plain": [
       "  0%|          | 0/223169 [00:00<?, ?it/s]"
      ]
     },
     "metadata": {},
     "output_type": "display_data"
    },
    {
     "data": {
      "text/plain": [
       "''"
      ]
     },
     "execution_count": 44,
     "metadata": {},
     "output_type": "execute_result"
    }
   ],
   "source": [
    "df = apply_and_concat(df, 'title', set_elemet_and_mark, ['element', 'mark', 'err', 'star', 'is_combo', 'rep', 'seq'])\n",
    ";"
   ]
  },
  {
   "cell_type": "markdown",
   "metadata": {},
   "source": [
    "Посмотрим, что у нас получилось"
   ]
  },
  {
   "cell_type": "code",
   "execution_count": 45,
   "metadata": {},
   "outputs": [
    {
     "data": {
      "text/plain": [
       "(       title element  mark err\n",
       " 51      3T<<      3T     1  <<\n",
       " 69      3Lzq     3Lz     1   q\n",
       " 86       3F!      3F     1   !\n",
       " 141      3F!      3F     1   !\n",
       " 144  CCoSp4V  CCoSp4     1   V,\n",
       "    title element  mark  err\n",
       " 0    4Lz     4Lz     0  NOT\n",
       " 1     4S      4S     0  NOT\n",
       " 1     3T      3T     0  NOT\n",
       " 2  FCSp4   FCSp4     0  NOT\n",
       " 3     3A      3A     0  NOT)"
      ]
     },
     "execution_count": 45,
     "metadata": {},
     "output_type": "execute_result"
    }
   ],
   "source": [
    "df.query('mark == 1')[['title', 'element', 'mark', 'err']].head(5), df.query('mark == 0')[['title', 'element', 'mark', 'err']].head(5)"
   ]
  },
  {
   "cell_type": "markdown",
   "metadata": {},
   "source": [
    "Функция верно отделила ошибки от элементов. Но чтобы проверить её адекватность, нужено глянуть на те ошибки которые она нашла и сверить с нашим списком"
   ]
  },
  {
   "cell_type": "code",
   "execution_count": 46,
   "metadata": {},
   "outputs": [
    {
     "name": "stdout",
     "output_type": "stream",
     "text": [
      "e*, <<, V, V*, q, !q, e, <, e<<, e<*, eq, <*, !<, q*, <<*, !<*, !q*, e<, !, !*, *, !<<, !<<*, *<, \n",
      "\n",
      "e*, <<, V, V*, q, !q, NOT, e, <, e<<, e<*, eq, <*, !<, <<*, q*, !<*, e<, !q*, !, !*, *, !<<, !<<*, *<, "
     ]
    }
   ],
   "source": [
    "for i in list(set(tails)):\n",
    "    print(i, end = ', ')\n",
    "print('\\n')\n",
    "for i in list(set(list(df['err'].unique()))):\n",
    "    print(i, end = ', ')"
   ]
  },
  {
   "cell_type": "markdown",
   "metadata": {},
   "source": [
    "Как видим списки совпадают. Появился только элемент NOT, обозначающий отсутствие ошибки. Посмотрим на элементы"
   ]
  },
  {
   "cell_type": "code",
   "execution_count": 47,
   "metadata": {},
   "outputs": [
    {
     "data": {
      "text/plain": [
       "(117, 176)"
      ]
     },
     "execution_count": 47,
     "metadata": {},
     "output_type": "execute_result"
    }
   ],
   "source": [
    "len(df['element'].unique()), len(all_fints)"
   ]
  },
  {
   "cell_type": "markdown",
   "metadata": {},
   "source": [
    "Мы видим, что в датасете меньше элементов, чем в нашем списке. Некоторые элементы действительно не входят в наш датасет."
   ]
  },
  {
   "cell_type": "code",
   "execution_count": 48,
   "metadata": {},
   "outputs": [
    {
     "name": "stdout",
     "output_type": "stream",
     "text": [
      "FCCSp3, FCLSpB, FCCSp1, FCUSp3, FCUSpB, FCLSp3, FCoSp4, FCCSpB, FCLSp1, FCCSp2, FCLSp2, FCUSp2, FCUSp4, FCoSp1, FCLSp4, FCoSp3, FCUSp1, FCoSpB, CUSp4, FCLSp, FLSp1, FLSpB, FUSp4, CLSp3, CLSp1, ChSqB, CLSpB, FUSp2, CLSp4, CLSp2, CUSp1, CUSp3, ChSq4, CUSpB, FCUSp, FUSp3, FUSpB, CUSp2, ChSq2, ChSq3, USp3, CLSp, CUSp, USp4, USp2, 4A, "
     ]
    }
   ],
   "source": [
    "zero_elements = []\n",
    "for i in list(all_fints)[1:]:\n",
    "    if len(df_old[df_old['title'].str.contains(i, regex = False)]) == 0:\n",
    "        zero_elements.append(i)\n",
    "\n",
    "for i in zero_elements:\n",
    "    print(i, end = ', ')"
   ]
  },
  {
   "cell_type": "markdown",
   "metadata": {},
   "source": [
    "Надо проверить, нет ли незнакомых элементов в датасете"
   ]
  },
  {
   "cell_type": "code",
   "execution_count": 49,
   "metadata": {},
   "outputs": [
    {
     "name": "stdout",
     "output_type": "stream",
     "text": [
      "....................................................................................................................."
     ]
    }
   ],
   "source": [
    "actual_fints = list(df['element'].unique())\n",
    "for i in actual_fints:\n",
    "    new_fint = 1\n",
    "    for i2 in all_fints:\n",
    "        if i == i2:\n",
    "            new_fint = 0\n",
    "            print('.', end='')\n",
    "    if new_fint == 1:\n",
    "        print(i)"
   ]
  },
  {
   "cell_type": "markdown",
   "metadata": {},
   "source": [
    "Как видим, всё прошло корректно. Посмотрим, сколько вообще есть тех или иных элементов в датасете."
   ]
  },
  {
   "cell_type": "code",
   "execution_count": 50,
   "metadata": {},
   "outputs": [
    {
     "data": {
      "text/plain": [
       "<matplotlib.lines.Line2D at 0x1a813e1dc10>"
      ]
     },
     "execution_count": 50,
     "metadata": {},
     "output_type": "execute_result"
    },
    {
     "data": {
      "image/png": "[encoded data removed]",
      "text/plain": [
       "<Figure size 2500x600 with 1 Axes>"
      ]
     },
     "metadata": {},
     "output_type": "display_data"
    }
   ],
   "source": [
    "elements_count = df.element.value_counts()\n",
    "elements_count.plot.bar(figsize = (25,6), fontsize = 8).axhline(y=TRESHOLD, color= 'red', linewidth=2,)"
   ]
  },
  {
   "cell_type": "markdown",
   "metadata": {},
   "source": [
    "Как мы видим, большое количество элементов во всём датасете встречалось меньше 1000 раз. Для модели это мало. Помимо этого, в рамках ТЗ нам нужно предсказать правильность выполнения самих] элементов (прыжки, вращения и шаги).\n",
    "Спортсмен может допускать ошибки другого вида - неправильно выполнять комбинации, падать, делать лишние прыжки в комбинации когда этого не надо, делать прыжки, которые не входят в программу и так далее. Однако, это выходит за рамки нашей задачи, потому мы также не будем учитывать такие ошибки. Наша задача лишь предсказать качество выполнения элементов самих по себе.\n"
   ]
  },
  {
   "cell_type": "markdown",
   "metadata": {},
   "source": [
    "### Вывод\n",
    "Мы успешно выделили элементы и отделили их от меток погрешностей. Теперь нам нужно собрать датасет, на котором будем обучать модель."
   ]
  },
  {
   "cell_type": "markdown",
   "metadata": {},
   "source": [
    "### Создание искусственных признаков и агреггация данных\n",
    "\n",
    "Признак \"decrease\" пояснение за что снижена оценка. Хотя мы не будем обрабатывать текст замечаний, само их наличие - полезный признак."
   ]
  },
  {
   "cell_type": "code",
   "execution_count": 51,
   "metadata": {},
   "outputs": [
    {
     "data": {
      "application/vnd.jupyter.widget-view+json": {
       "model_id": "6a02becea3004577a1ff075461e6d486",
       "version_major": 2,
       "version_minor": 0
      },
      "text/plain": [
       "  0%|          | 0/223169 [00:00<?, ?it/s]"
      ]
     },
     "metadata": {},
     "output_type": "display_data"
    }
   ],
   "source": [
    "df['decrease'] = df['decrease'].progress_apply(lambda x: 0 if x != x else 1)"
   ]
  },
  {
   "cell_type": "markdown",
   "metadata": {},
   "source": [
    "Признак segment_name означает название сегмента, в котором выступает спортсмен. Так как их немного, просто переведём в номера. Но для начала посмотрим на этот признак"
   ]
  },
  {
   "cell_type": "code",
   "execution_count": 52,
   "metadata": {},
   "outputs": [
    {
     "data": {
      "text/plain": [
       "(array(['Короткая программа', 'Произвольная программа',\n",
       "        'Произвольнaя программа', 'Кoроткая программа',\n",
       "        'Прoизвольная прoграмма', 'Прыжки', 'Элементы',\n",
       "        'Произвольная программа.', 'Элeмeнты', 'Kopoткaя пpoгpaммa',\n",
       "        'Пpoизвoльнaя пpoгpaммa', 'Кopoткaя пpoгpaммa',\n",
       "        'Коpоткая программа', 'Пpoизвольная программа',\n",
       "        'Пpoизвольнaя программа', 'Интерпретация', 'Интерпретация.', nan],\n",
       "       dtype=object),\n",
       " 18)"
      ]
     },
     "execution_count": 52,
     "metadata": {},
     "output_type": "execute_result"
    }
   ],
   "source": [
    "df['segment_name'].unique(), len(df['segment_name'].unique())"
   ]
  },
  {
   "cell_type": "markdown",
   "metadata": {},
   "source": [
    "Мы видим, что некоторые значения повторяются. Исправим это"
   ]
  },
  {
   "cell_type": "code",
   "execution_count": 53,
   "metadata": {},
   "outputs": [],
   "source": [
    "df['segment_name'] = df['segment_name'].fillna('Другое') #Заполним пропуски в этой колонке"
   ]
  },
  {
   "cell_type": "markdown",
   "metadata": {},
   "source": [
    "Теперь переделаем дублирующие имена"
   ]
  },
  {
   "cell_type": "code",
   "execution_count": 54,
   "metadata": {},
   "outputs": [],
   "source": [
    "def segment_name_unification(text):\n",
    "    if text in ['Короткая программа', 'Кoроткая программа', 'Kopoткaя пpoгpaммa', 'Кopoткaя пpoгpaммa', 'Коpоткая программа']:\n",
    "        return 'Короткая программа'\n",
    "    if text in ['Произвольная программа', 'Произвольнaя программа', 'Прoизвольная прoграмма', 'Произвольная программа.', 'Пpoизвoльнaя пpoгpaммa', 'Пpoизвольная программа','Пpoизвольнaя программа' ]:\n",
    "        return 'Произвольная программа'\n",
    "    if text in ['Элементы', 'Элeмeнты']:\n",
    "        return 'Элементы'\n",
    "    if text in ['Интерпретация', 'Интерпретация.']:\n",
    "        return 'Интерпретация'\n",
    "    return text"
   ]
  },
  {
   "cell_type": "markdown",
   "metadata": {},
   "source": [
    "Применем функцию к данным"
   ]
  },
  {
   "cell_type": "code",
   "execution_count": 55,
   "metadata": {},
   "outputs": [
    {
     "data": {
      "application/vnd.jupyter.widget-view+json": {
       "model_id": "641d3a790502406c8a9a3bf46dc6f3fa",
       "version_major": 2,
       "version_minor": 0
      },
      "text/plain": [
       "  0%|          | 0/223169 [00:00<?, ?it/s]"
      ]
     },
     "metadata": {},
     "output_type": "display_data"
    }
   ],
   "source": [
    "df['segment_name'] = df['segment_name'].progress_apply(segment_name_unification)"
   ]
  },
  {
   "cell_type": "markdown",
   "metadata": {},
   "source": [
    "Посмотрим на количество данных"
   ]
  },
  {
   "cell_type": "code",
   "execution_count": 56,
   "metadata": {},
   "outputs": [
    {
     "data": {
      "text/plain": [
       "segment_name\n",
       "Произвольная программа    152896\n",
       "Короткая программа         63663\n",
       "Элементы                    5186\n",
       "Прыжки                      1216\n",
       "Интерпретация                165\n",
       "Другое                        43\n",
       "Name: count, dtype: int64"
      ]
     },
     "execution_count": 56,
     "metadata": {},
     "output_type": "execute_result"
    }
   ],
   "source": [
    "df['segment_name'].value_counts()"
   ]
  },
  {
   "cell_type": "markdown",
   "metadata": {},
   "source": [
    "Мы видим, что прыжков и интерпретаций очень мало. Назовём их \"Другое\"."
   ]
  },
  {
   "cell_type": "code",
   "execution_count": 57,
   "metadata": {},
   "outputs": [
    {
     "data": {
      "application/vnd.jupyter.widget-view+json": {
       "model_id": "8fd5a93f7e224ccf88cd0114462fbaaf",
       "version_major": 2,
       "version_minor": 0
      },
      "text/plain": [
       "  0%|          | 0/223169 [00:00<?, ?it/s]"
      ]
     },
     "metadata": {},
     "output_type": "display_data"
    }
   ],
   "source": [
    "df['segment_name'] = df['segment_name'].progress_apply(lambda x: 'Другое' if x in ['Прыжки', 'Интерпретация'] else x)"
   ]
  },
  {
   "cell_type": "markdown",
   "metadata": {},
   "source": [
    "Признак очищен успешно"
   ]
  },
  {
   "cell_type": "code",
   "execution_count": 58,
   "metadata": {},
   "outputs": [
    {
     "data": {
      "text/plain": [
       "segment_name\n",
       "Произвольная программа    152896\n",
       "Короткая программа         63663\n",
       "Элементы                    5186\n",
       "Другое                      1424\n",
       "Name: count, dtype: int64"
      ]
     },
     "execution_count": 58,
     "metadata": {},
     "output_type": "execute_result"
    }
   ],
   "source": [
    "df['segment_name'].value_counts()"
   ]
  },
  {
   "cell_type": "markdown",
   "metadata": {},
   "source": [
    "Теперь нам нужно превратить это в числа"
   ]
  },
  {
   "cell_type": "code",
   "execution_count": 59,
   "metadata": {},
   "outputs": [
    {
     "data": {
      "application/vnd.jupyter.widget-view+json": {
       "model_id": "d60fcbfa16ae4eeca55da8bdadfa653b",
       "version_major": 2,
       "version_minor": 0
      },
      "text/plain": [
       "  0%|          | 0/223169 [00:00<?, ?it/s]"
      ]
     },
     "metadata": {},
     "output_type": "display_data"
    }
   ],
   "source": [
    "segment_names = list(df['segment_name'].unique())\n",
    "df['segment_name'] = df['segment_name'].progress_apply(lambda x: segment_names.index (x) if x in segment_names else -1)"
   ]
  },
  {
   "cell_type": "markdown",
   "metadata": {},
   "source": [
    "Разберёмся с признаком color, также превратив его в числа"
   ]
  },
  {
   "cell_type": "code",
   "execution_count": 60,
   "metadata": {},
   "outputs": [
    {
     "data": {
      "application/vnd.jupyter.widget-view+json": {
       "model_id": "1c9484e6f4ce482d98c4ca4f46a8a1b1",
       "version_major": 2,
       "version_minor": 0
      },
      "text/plain": [
       "  0%|          | 0/223169 [00:00<?, ?it/s]"
      ]
     },
     "metadata": {},
     "output_type": "display_data"
    }
   ],
   "source": [
    "colors = list(df['color'].unique())\n",
    "df['color'] = df['color'].progress_apply(lambda x: colors.index (x) if x in colors else -1)"
   ]
  },
  {
   "cell_type": "code",
   "execution_count": 61,
   "metadata": {},
   "outputs": [
    {
     "data": {
      "text/plain": [
       "color\n",
       "1    160235\n",
       "0     62934\n",
       "Name: count, dtype: int64"
      ]
     },
     "execution_count": 61,
     "metadata": {},
     "output_type": "execute_result"
    }
   ],
   "source": [
    "df['color'].value_counts()"
   ]
  },
  {
   "cell_type": "markdown",
   "metadata": {},
   "source": [
    "Мы успешно превратили признак в числа. Как видим, у нас всего два числа, так что с этим признаком проблем нет. Цвета в данном случае обозначают пол спортсмена, но мы не знаем какой цвет какой пол обозначает, да и в рамках решения задачи это не важно.\n",
    "\n",
    "Так же нам надо инвертировать признаки days_start и days_end, так как они показывают, сколько времени назад закончился турнир. "
   ]
  },
  {
   "cell_type": "code",
   "execution_count": 62,
   "metadata": {},
   "outputs": [],
   "source": [
    "df['days_start'] = df['days_start']*(-1)\n",
    "df['days_end'] = df['days_end']*(-1)"
   ]
  },
  {
   "cell_type": "markdown",
   "metadata": {},
   "source": [
    "\n",
    "\n",
    "### Агрегация данных\n",
    "Теперб нам нужно собрать сам датасет, на котором мы уже сможем обучить и протестировать нашу модель\n",
    "\n",
    "Для начала создадим вспомогательный датасет. В будущем мы удалим такие элементы как COMBO, SEQ и так далее, так как в рамках задачи, они нам не интересны. Потому извлечём из них признаки заранее. "
   ]
  },
  {
   "cell_type": "code",
   "execution_count": 63,
   "metadata": {},
   "outputs": [],
   "source": [
    "#ACTUAL_PREDICT - константа, в которой находится название поля, по которому мы будем в итоге агреггировать строки. В данном случае это tournament_id. Таким образом, мы группируем данные по спортсмену и турниру\n",
    "\n",
    "df_00 = df.groupby(by = ['unit_id', ACTUAL_PREDICT]).agg(  \n",
    "    is_combo_sum = ('is_combo','sum'), #Сумма пометок COMBO\n",
    "    rep_sum = ('rep', 'sum'), #Сумма пометок REP\n",
    "    seq_sum = ('seq', 'sum'), # Сумма пометок SEQ\n",
    "    star_sum = ('star', 'sum'),# Сумма элементов со звёздочкой\n",
    "    total_count = ('is_combo', len), #Общее количество элементов, выполнеенных жанным спортсменом за турнир\n",
    "    base_score_y_mean = ('base_score_y', 'mean'), #Среднняя base_score_y\n",
    "    decrease_mean = ('decrease', 'mean'), #Среднее количество пометок об ошибке\n",
    "    decrease_sum = ('decrease', 'sum'), #Абсолютное количество пометок об ошибке (записей)\n",
    "    combo_sum= ('combo', 'sum'), #Общая сумма каскадов и комбо (элементов типа 2F + SpB)\n",
    "    combo_mean= ('combo', 'mean'),  #Среднее количество каскадов и комбо (элементов типа 2F + SpB)\n",
    "    goe_mean = ('goe', 'mean'), #Среднее goe\n",
    "    errors_sum = ('mark','sum'), #Количество ошибок\n",
    "    erorres_mean = ('mark', 'mean') #Среднее количество ошибко\n",
    "\n",
    "    \n",
    "    ).reset_index()"
   ]
  },
  {
   "cell_type": "code",
   "execution_count": 64,
   "metadata": {},
   "outputs": [
    {
     "data": {
      "text/html": [
       "<div>\n",
       "<style scoped>\n",
       "    .dataframe tbody tr th:only-of-type {\n",
       "        vertical-align: middle;\n",
       "    }\n",
       "\n",
       "    .dataframe tbody tr th {\n",
       "        vertical-align: top;\n",
       "    }\n",
       "\n",
       "    .dataframe thead th {\n",
       "        text-align: right;\n",
       "    }\n",
       "</style>\n",
       "<table border=\"1\" class=\"dataframe\">\n",
       "  <thead>\n",
       "    <tr style=\"text-align: right;\">\n",
       "      <th></th>\n",
       "      <th>unit_id</th>\n",
       "      <th>tournament_id</th>\n",
       "      <th>is_combo_sum</th>\n",
       "      <th>rep_sum</th>\n",
       "      <th>seq_sum</th>\n",
       "      <th>star_sum</th>\n",
       "      <th>total_count</th>\n",
       "      <th>base_score_y_mean</th>\n",
       "      <th>decrease_mean</th>\n",
       "      <th>decrease_sum</th>\n",
       "      <th>combo_sum</th>\n",
       "      <th>combo_mean</th>\n",
       "      <th>goe_mean</th>\n",
       "      <th>errors_sum</th>\n",
       "      <th>erorres_mean</th>\n",
       "    </tr>\n",
       "  </thead>\n",
       "  <tbody>\n",
       "    <tr>\n",
       "      <th>0</th>\n",
       "      <td>1</td>\n",
       "      <td>1</td>\n",
       "      <td>0</td>\n",
       "      <td>0</td>\n",
       "      <td>0</td>\n",
       "      <td>0</td>\n",
       "      <td>23</td>\n",
       "      <td>4.150435</td>\n",
       "      <td>0.304348</td>\n",
       "      <td>7</td>\n",
       "      <td>35</td>\n",
       "      <td>1.521739</td>\n",
       "      <td>-0.114783</td>\n",
       "      <td>4</td>\n",
       "      <td>0.173913</td>\n",
       "    </tr>\n",
       "    <tr>\n",
       "      <th>1</th>\n",
       "      <td>1</td>\n",
       "      <td>3</td>\n",
       "      <td>0</td>\n",
       "      <td>0</td>\n",
       "      <td>0</td>\n",
       "      <td>0</td>\n",
       "      <td>8</td>\n",
       "      <td>3.387500</td>\n",
       "      <td>0.125000</td>\n",
       "      <td>1</td>\n",
       "      <td>10</td>\n",
       "      <td>1.250000</td>\n",
       "      <td>0.356250</td>\n",
       "      <td>1</td>\n",
       "      <td>0.125000</td>\n",
       "    </tr>\n",
       "  </tbody>\n",
       "</table>\n",
       "</div>"
      ],
      "text/plain": [
       "   unit_id  tournament_id  is_combo_sum  rep_sum  seq_sum  star_sum  \\\n",
       "0        1              1             0        0        0         0   \n",
       "1        1              3             0        0        0         0   \n",
       "\n",
       "   total_count  base_score_y_mean  decrease_mean  decrease_sum  combo_sum  \\\n",
       "0           23           4.150435       0.304348             7         35   \n",
       "1            8           3.387500       0.125000             1         10   \n",
       "\n",
       "   combo_mean  goe_mean  errors_sum  erorres_mean  \n",
       "0    1.521739 -0.114783           4      0.173913  \n",
       "1    1.250000  0.356250           1      0.125000  "
      ]
     },
     "execution_count": 64,
     "metadata": {},
     "output_type": "execute_result"
    }
   ],
   "source": [
    "df_00.head(2)"
   ]
  },
  {
   "cell_type": "markdown",
   "metadata": {},
   "source": [
    "Мы успешно создали промежуточную таблицу, теперь надо её объединить с нашими данными. "
   ]
  },
  {
   "cell_type": "code",
   "execution_count": 65,
   "metadata": {},
   "outputs": [],
   "source": [
    "df2 = df.merge(df_00, on = ['unit_id', ACTUAL_PREDICT]) #Объединим данные"
   ]
  },
  {
   "cell_type": "code",
   "execution_count": 66,
   "metadata": {},
   "outputs": [],
   "source": [
    "df2 = df2.drop(columns = ['star', 'is_combo', 'rep', 'seq', 'decrease','goe', 'base_score_y', 'combo']) # Удалим лишние стобцы\n"
   ]
  },
  {
   "cell_type": "markdown",
   "metadata": {},
   "source": [
    "Теперь нам нужно упорядочить турниры, в которых участвовал спортсмен. Упорядочивать их будем от самого раннего к более позднему, то есть сначала пойдут самые старые турниры. "
   ]
  },
  {
   "cell_type": "code",
   "execution_count": 67,
   "metadata": {},
   "outputs": [],
   "source": [
    "df3 = df2.groupby(by = ['unit_id','days_start',ACTUAL_PREDICT] )['decrease_mean'].mean().reset_index() #Группируем по decrease_mean так как нам надо по чему-то группировать"
   ]
  },
  {
   "cell_type": "markdown",
   "metadata": {},
   "source": [
    "Теперь создадим колонку number в которой будет записан порядковый номер турнира, в котором участвовал данный спортсмен"
   ]
  },
  {
   "cell_type": "code",
   "execution_count": 68,
   "metadata": {},
   "outputs": [
    {
     "data": {
      "application/vnd.jupyter.widget-view+json": {
       "model_id": "dfd2b5a3739a4331ab401f3a89d68c08",
       "version_major": 2,
       "version_minor": 0
      },
      "text/plain": [
       "  0%|          | 0/12555 [00:00<?, ?it/s]"
      ]
     },
     "metadata": {},
     "output_type": "display_data"
    }
   ],
   "source": [
    "df3['number'] = 0 # Инициализируем новый столбец\n",
    "unit_id_now = 1 # Переменная для запоминания id конкретного спортсмена\n",
    "counter = 0 # Наш счётлчик\n",
    "for i in tqdm(range(len(df3))): # Проходим по всему датасету\n",
    "    unit_id_new = df3.at[i,'unit_id'] # Инициализируем переменную, которая позволит нам понять, это всё тот же спортсмен или уже другой\n",
    "    if unit_id_new != unit_id_now: # Если мы дошли до нового спортсмена - обнуляем счётчик и запоминаем id нового спортсмена\n",
    "        unit_id_now = unit_id_new\n",
    "        counter = 0\n",
    "    df3.at[i,'number'] = counter # Присваиваем новому столбцу значение счётчика\n",
    "    counter += 1\n",
    "    \n",
    "    "
   ]
  },
  {
   "cell_type": "code",
   "execution_count": 69,
   "metadata": {},
   "outputs": [
    {
     "data": {
      "text/html": [
       "<div>\n",
       "<style scoped>\n",
       "    .dataframe tbody tr th:only-of-type {\n",
       "        vertical-align: middle;\n",
       "    }\n",
       "\n",
       "    .dataframe tbody tr th {\n",
       "        vertical-align: top;\n",
       "    }\n",
       "\n",
       "    .dataframe thead th {\n",
       "        text-align: right;\n",
       "    }\n",
       "</style>\n",
       "<table border=\"1\" class=\"dataframe\">\n",
       "  <thead>\n",
       "    <tr style=\"text-align: right;\">\n",
       "      <th></th>\n",
       "      <th>unit_id</th>\n",
       "      <th>days_start</th>\n",
       "      <th>tournament_id</th>\n",
       "      <th>decrease_mean</th>\n",
       "      <th>number</th>\n",
       "    </tr>\n",
       "  </thead>\n",
       "  <tbody>\n",
       "    <tr>\n",
       "      <th>0</th>\n",
       "      <td>1</td>\n",
       "      <td>-745</td>\n",
       "      <td>84</td>\n",
       "      <td>0.166667</td>\n",
       "      <td>0</td>\n",
       "    </tr>\n",
       "    <tr>\n",
       "      <th>1</th>\n",
       "      <td>1</td>\n",
       "      <td>-576</td>\n",
       "      <td>3</td>\n",
       "      <td>0.125000</td>\n",
       "      <td>1</td>\n",
       "    </tr>\n",
       "    <tr>\n",
       "      <th>2</th>\n",
       "      <td>1</td>\n",
       "      <td>-521</td>\n",
       "      <td>1</td>\n",
       "      <td>0.304348</td>\n",
       "      <td>2</td>\n",
       "    </tr>\n",
       "    <tr>\n",
       "      <th>3</th>\n",
       "      <td>1</td>\n",
       "      <td>-469</td>\n",
       "      <td>21</td>\n",
       "      <td>0.250000</td>\n",
       "      <td>3</td>\n",
       "    </tr>\n",
       "    <tr>\n",
       "      <th>4</th>\n",
       "      <td>1</td>\n",
       "      <td>-437</td>\n",
       "      <td>33</td>\n",
       "      <td>0.416667</td>\n",
       "      <td>4</td>\n",
       "    </tr>\n",
       "  </tbody>\n",
       "</table>\n",
       "</div>"
      ],
      "text/plain": [
       "   unit_id  days_start  tournament_id  decrease_mean  number\n",
       "0        1        -745             84       0.166667       0\n",
       "1        1        -576              3       0.125000       1\n",
       "2        1        -521              1       0.304348       2\n",
       "3        1        -469             21       0.250000       3\n",
       "4        1        -437             33       0.416667       4"
      ]
     },
     "execution_count": 69,
     "metadata": {},
     "output_type": "execute_result"
    }
   ],
   "source": [
    "df3.head()"
   ]
  },
  {
   "cell_type": "markdown",
   "metadata": {},
   "source": [
    "Мы успешно пронумеравали данные."
   ]
  },
  {
   "cell_type": "code",
   "execution_count": 70,
   "metadata": {},
   "outputs": [],
   "source": [
    "df3 = df3.drop(columns = 'decrease_mean') # Удалим лишний столбец"
   ]
  },
  {
   "cell_type": "code",
   "execution_count": 71,
   "metadata": {},
   "outputs": [],
   "source": [
    "df2 = df2.merge(df3, on = ['unit_id', 'days_start',ACTUAL_PREDICT]) # Объединим с нашими данными"
   ]
  },
  {
   "cell_type": "markdown",
   "metadata": {},
   "source": [
    "Добавим также значение максимального номера. Оно будет обозначать количество турниров, в которых спортсмен вообще участвовал (общее количество турниров на единицу больше, так как счёт начинается с нуля) "
   ]
  },
  {
   "cell_type": "code",
   "execution_count": 72,
   "metadata": {},
   "outputs": [],
   "source": [
    "df3 = df2.groupby(by='unit_id').agg(max_number = ('number', 'max')).reset_index()\n",
    "df2 = df2.merge(df3, on = ['unit_id']) #Объединим данные\n"
   ]
  },
  {
   "cell_type": "markdown",
   "metadata": {},
   "source": [
    "Теперь получим наш датасет и отфильтруем его. Мы будем удалять всех спортсменов, которые участвовали меньше чем в UNIT_TRESHOLD турнирах (в данном случае, минимум - три спортсмена). Также удалим элементы, которые являются метками - типа COMBO и т.п."
   ]
  },
  {
   "cell_type": "code",
   "execution_count": 73,
   "metadata": {},
   "outputs": [],
   "source": [
    "drop_list = ['COMBO', 'SEQ', 'REP'] #Список элементов на удаление\n",
    "df = df2.copy() \n",
    "df = df.query('element not in @drop_list and max_number >= (@UNIT_TRESHOLD - 1)') # Фильтруем датасет. В него будут попадать только те записи, где спортсмен участовал хотя бы в UNIT_TRESHOLD турнирах"
   ]
  },
  {
   "cell_type": "markdown",
   "metadata": {},
   "source": [
    "Выше мы видели, что многие элементы выполнялись малое количество раз за всё время. Выделим эти элементы и запишем их в отдельный список "
   ]
  },
  {
   "cell_type": "code",
   "execution_count": 74,
   "metadata": {},
   "outputs": [
    {
     "data": {
      "text/plain": [
       "13185"
      ]
     },
     "execution_count": 74,
     "metadata": {},
     "output_type": "execute_result"
    }
   ],
   "source": [
    "elements_count = df.element.value_counts() # Количество выполнений каждого элемента\n",
    "other_elemenst_sum = elements_count.reset_index(drop=False).query('count <= @TRESHOLD')['count'].sum() # Посмотрим на общее количество выполнений \"других\" элементов\n",
    "elements_count = elements_count.reset_index(drop=False).query('count >= @TRESHOLD') # Запомним ите элементы, которые были выполнены больше пороговорого значения\n",
    "other_elemenst_sum"
   ]
  },
  {
   "cell_type": "code",
   "execution_count": 75,
   "metadata": {},
   "outputs": [],
   "source": [
    "elements_count = list(elements_count['element']) # Преобразуем в список"
   ]
  },
  {
   "cell_type": "markdown",
   "metadata": {},
   "source": [
    "Теперь присвоим всем \"редким\" элементам значение \"другое\". И посмотрим на то, что у нас получилось"
   ]
  },
  {
   "cell_type": "code",
   "execution_count": 76,
   "metadata": {},
   "outputs": [
    {
     "data": {
      "application/vnd.jupyter.widget-view+json": {
       "model_id": "aa0bef670f724d38ac0d6a383d171aa9",
       "version_major": 2,
       "version_minor": 0
      },
      "text/plain": [
       "  0%|          | 0/178621 [00:00<?, ?it/s]"
      ]
     },
     "metadata": {},
     "output_type": "display_data"
    },
    {
     "data": {
      "text/plain": [
       "<Axes: xlabel='element'>"
      ]
     },
     "execution_count": 76,
     "metadata": {},
     "output_type": "execute_result"
    },
    {
     "data": {
      "image/png": "[encoded data removed]",
      "text/plain": [
       "<Figure size 2500x600 with 1 Axes>"
      ]
     },
     "metadata": {},
     "output_type": "display_data"
    }
   ],
   "source": [
    "\n",
    "df['element'] = df['element'].progress_apply(lambda x: x if x in elements_count else 'other')\n",
    "elements_count = df.element.value_counts()\n",
    "elements_count.plot.bar(figsize = (25,6), fontsize = 8)"
   ]
  },
  {
   "cell_type": "markdown",
   "metadata": {},
   "source": [
    "Мы видим, что элементов стало гораздо меньше. При том, общая сумма \"других\" элементов существенна.\n"
   ]
  },
  {
   "cell_type": "code",
   "execution_count": 77,
   "metadata": {},
   "outputs": [],
   "source": [
    "df = df.drop(columns = ['info', 'overall_place_str', 'avg_score', 'date_start', 'date_end']) # Убираем лишние колонки"
   ]
  },
  {
   "cell_type": "code",
   "execution_count": 78,
   "metadata": {},
   "outputs": [],
   "source": [
    "elements = list(df['element'].unique() )"
   ]
  },
  {
   "cell_type": "markdown",
   "metadata": {},
   "source": [
    "Пока наши элементы и ошибки имеют вид категориальных признаков со множеством категорий. Мы хотим предсказать, какие элементы сможет выполнить спортсмен за весь турнир, или в каких элементах он ошибётся или какие элементы спортсмен попытается выполнить вне зависимости от финального результата.\n",
    "\n",
    "Для начала создадим новые столбцы, в которых будут записаны элементы."
   ]
  },
  {
   "cell_type": "code",
   "execution_count": 79,
   "metadata": {},
   "outputs": [
    {
     "data": {
      "application/vnd.jupyter.widget-view+json": {
       "model_id": "554a7dd0416a49f8b10eef9008dc4a9e",
       "version_major": 2,
       "version_minor": 0
      },
      "text/plain": [
       "  0%|          | 0/178621 [00:00<?, ?it/s]"
      ]
     },
     "metadata": {},
     "output_type": "display_data"
    }
   ],
   "source": [
    "errors = list(df['err'].unique())\n",
    "df['err'] = df['err'].progress_apply(lambda x: errors.index (x) if x in errors else -1)"
   ]
  },
  {
   "cell_type": "code",
   "execution_count": 80,
   "metadata": {},
   "outputs": [],
   "source": [
    "err_elements = []\n",
    "correct_elements = []\n",
    "completed_elements = []\n",
    "df['err_elements'] = df.apply(lambda row:  row[\"element\"] if row[\"mark\"] == 1 else 'NOT', axis=1) # Столбец с элементами, выполненными с ошибками (хотя бы одна ошибка за турнир)\n",
    "df['correct_elements'] = df.apply(lambda row: row[\"element\"] if row[\"mark\"] == 0 else 'NOT', axis=1) # Столбец с элментами, выполненными верно (хотя бы один раз за турнир)\n",
    "df['completed_elements'] = df['element'] # Столбец с элементами, которые спортсмен попытался выполнить вне зависимости от результата\n",
    "df['type_error'] = df['err'] # Столбец с конкретными ошибками (полезен как дополнительный обучающий пизнак)\n",
    "df['type_segment'] = df['segment_name'] # Столбец с номером сегмента"
   ]
  },
  {
   "cell_type": "code",
   "execution_count": 81,
   "metadata": {},
   "outputs": [],
   "source": [
    "df = df.drop(columns = ['element', 'mark','err', 'title', 'segment_name']) # Убираем лишние столбцы"
   ]
  },
  {
   "cell_type": "markdown",
   "metadata": {},
   "source": [
    "Теперь переведём наши данные в бинарные признаки, то есть, каждый элемент (и т.п.) будет соответствующим признаком."
   ]
  },
  {
   "cell_type": "code",
   "execution_count": 82,
   "metadata": {},
   "outputs": [],
   "source": [
    "df = pd.get_dummies(df, columns = ['correct_elements', 'err_elements', 'completed_elements', 'type_error', 'type_segment'], drop_first= False, dtype=int)\n"
   ]
  },
  {
   "cell_type": "markdown",
   "metadata": {},
   "source": [
    "Заполним оставшиеся пропуски"
   ]
  },
  {
   "cell_type": "code",
   "execution_count": 83,
   "metadata": {},
   "outputs": [],
   "source": [
    "df = df.fillna(-1)"
   ]
  },
  {
   "cell_type": "markdown",
   "metadata": {},
   "source": [
    "Создаём финальный датасет"
   ]
  },
  {
   "cell_type": "code",
   "execution_count": 84,
   "metadata": {},
   "outputs": [],
   "source": [
    "df = df.groupby(by = ['unit_id','days_start',ACTUAL_PREDICT] ).max().reset_index()"
   ]
  },
  {
   "cell_type": "markdown",
   "metadata": {},
   "source": [
    "Удаляем лишние столбцы"
   ]
  },
  {
   "cell_type": "code",
   "execution_count": 85,
   "metadata": {},
   "outputs": [],
   "source": [
    "for i in df.columns:\n",
    "    if '_NOT' in i:\n",
    "        df = df.drop(columns = i)"
   ]
  },
  {
   "cell_type": "markdown",
   "metadata": {},
   "source": [
    "Нам удалось собрать финальный датасет"
   ]
  },
  {
   "cell_type": "code",
   "execution_count": 86,
   "metadata": {},
   "outputs": [
    {
     "data": {
      "text/html": [
       "<div>\n",
       "<style scoped>\n",
       "    .dataframe tbody tr th:only-of-type {\n",
       "        vertical-align: middle;\n",
       "    }\n",
       "\n",
       "    .dataframe tbody tr th {\n",
       "        vertical-align: top;\n",
       "    }\n",
       "\n",
       "    .dataframe thead th {\n",
       "        text-align: right;\n",
       "    }\n",
       "</style>\n",
       "<table border=\"1\" class=\"dataframe\">\n",
       "  <thead>\n",
       "    <tr style=\"text-align: right;\">\n",
       "      <th></th>\n",
       "      <th>unit_id</th>\n",
       "      <th>days_start</th>\n",
       "      <th>tournament_id</th>\n",
       "      <th>total_score_id</th>\n",
       "      <th>base_score_x</th>\n",
       "      <th>components_score</th>\n",
       "      <th>total_score</th>\n",
       "      <th>elements_score</th>\n",
       "      <th>decreasings_score</th>\n",
       "      <th>starting_place</th>\n",
       "      <th>place</th>\n",
       "      <th>overall_place</th>\n",
       "      <th>overall_total_score</th>\n",
       "      <th>id</th>\n",
       "      <th>origin_id</th>\n",
       "      <th>color</th>\n",
       "      <th>school_id</th>\n",
       "      <th>days_end</th>\n",
       "      <th>days</th>\n",
       "      <th>is_combo_sum</th>\n",
       "      <th>rep_sum</th>\n",
       "      <th>seq_sum</th>\n",
       "      <th>star_sum</th>\n",
       "      <th>total_count</th>\n",
       "      <th>base_score_y_mean</th>\n",
       "      <th>decrease_mean</th>\n",
       "      <th>decrease_sum</th>\n",
       "      <th>combo_sum</th>\n",
       "      <th>combo_mean</th>\n",
       "      <th>goe_mean</th>\n",
       "      <th>errors_sum</th>\n",
       "      <th>erorres_mean</th>\n",
       "      <th>number</th>\n",
       "      <th>max_number</th>\n",
       "      <th>correct_elements_1A</th>\n",
       "      <th>correct_elements_1Eu</th>\n",
       "      <th>correct_elements_1Lo</th>\n",
       "      <th>correct_elements_1Lz</th>\n",
       "      <th>correct_elements_2A</th>\n",
       "      <th>correct_elements_2F</th>\n",
       "      <th>correct_elements_2Lo</th>\n",
       "      <th>correct_elements_2Lz</th>\n",
       "      <th>correct_elements_2S</th>\n",
       "      <th>correct_elements_2T</th>\n",
       "      <th>correct_elements_3A</th>\n",
       "      <th>correct_elements_3F</th>\n",
       "      <th>correct_elements_3Lo</th>\n",
       "      <th>correct_elements_3Lz</th>\n",
       "      <th>correct_elements_3S</th>\n",
       "      <th>correct_elements_3T</th>\n",
       "      <th>correct_elements_CCoSp2</th>\n",
       "      <th>correct_elements_CCoSp3</th>\n",
       "      <th>correct_elements_CCoSp4</th>\n",
       "      <th>correct_elements_CSSp4</th>\n",
       "      <th>correct_elements_ChSpl1</th>\n",
       "      <th>correct_elements_ChSq1</th>\n",
       "      <th>correct_elements_FCCoSp4</th>\n",
       "      <th>correct_elements_FCSp3</th>\n",
       "      <th>correct_elements_FCSp4</th>\n",
       "      <th>correct_elements_FSSp2</th>\n",
       "      <th>correct_elements_FSSp3</th>\n",
       "      <th>correct_elements_FSSp4</th>\n",
       "      <th>correct_elements_LSp3</th>\n",
       "      <th>correct_elements_LSp4</th>\n",
       "      <th>correct_elements_StSq1</th>\n",
       "      <th>correct_elements_StSq2</th>\n",
       "      <th>correct_elements_StSq3</th>\n",
       "      <th>correct_elements_StSqB</th>\n",
       "      <th>correct_elements_other</th>\n",
       "      <th>err_elements_1A</th>\n",
       "      <th>err_elements_1Eu</th>\n",
       "      <th>err_elements_1Lo</th>\n",
       "      <th>err_elements_1Lz</th>\n",
       "      <th>err_elements_2A</th>\n",
       "      <th>err_elements_2F</th>\n",
       "      <th>err_elements_2Lo</th>\n",
       "      <th>err_elements_2Lz</th>\n",
       "      <th>err_elements_2S</th>\n",
       "      <th>err_elements_2T</th>\n",
       "      <th>err_elements_3A</th>\n",
       "      <th>err_elements_3F</th>\n",
       "      <th>err_elements_3Lo</th>\n",
       "      <th>err_elements_3Lz</th>\n",
       "      <th>err_elements_3S</th>\n",
       "      <th>err_elements_3T</th>\n",
       "      <th>err_elements_CCoSp2</th>\n",
       "      <th>err_elements_CCoSp3</th>\n",
       "      <th>err_elements_CCoSp4</th>\n",
       "      <th>err_elements_CSSp4</th>\n",
       "      <th>err_elements_FCCoSp4</th>\n",
       "      <th>err_elements_FSSp2</th>\n",
       "      <th>err_elements_FSSp3</th>\n",
       "      <th>err_elements_FSSp4</th>\n",
       "      <th>err_elements_other</th>\n",
       "      <th>completed_elements_1A</th>\n",
       "      <th>completed_elements_1Eu</th>\n",
       "      <th>completed_elements_1Lo</th>\n",
       "      <th>completed_elements_1Lz</th>\n",
       "      <th>completed_elements_2A</th>\n",
       "      <th>completed_elements_2F</th>\n",
       "      <th>completed_elements_2Lo</th>\n",
       "      <th>completed_elements_2Lz</th>\n",
       "      <th>completed_elements_2S</th>\n",
       "      <th>completed_elements_2T</th>\n",
       "      <th>completed_elements_3A</th>\n",
       "      <th>completed_elements_3F</th>\n",
       "      <th>completed_elements_3Lo</th>\n",
       "      <th>completed_elements_3Lz</th>\n",
       "      <th>completed_elements_3S</th>\n",
       "      <th>completed_elements_3T</th>\n",
       "      <th>completed_elements_CCoSp2</th>\n",
       "      <th>completed_elements_CCoSp3</th>\n",
       "      <th>completed_elements_CCoSp4</th>\n",
       "      <th>completed_elements_CSSp4</th>\n",
       "      <th>completed_elements_ChSpl1</th>\n",
       "      <th>completed_elements_ChSq1</th>\n",
       "      <th>completed_elements_FCCoSp4</th>\n",
       "      <th>completed_elements_FCSp3</th>\n",
       "      <th>completed_elements_FCSp4</th>\n",
       "      <th>completed_elements_FSSp2</th>\n",
       "      <th>completed_elements_FSSp3</th>\n",
       "      <th>completed_elements_FSSp4</th>\n",
       "      <th>completed_elements_LSp3</th>\n",
       "      <th>completed_elements_LSp4</th>\n",
       "      <th>completed_elements_StSq1</th>\n",
       "      <th>completed_elements_StSq2</th>\n",
       "      <th>completed_elements_StSq3</th>\n",
       "      <th>completed_elements_StSqB</th>\n",
       "      <th>completed_elements_other</th>\n",
       "      <th>type_error_0</th>\n",
       "      <th>type_error_1</th>\n",
       "      <th>type_error_2</th>\n",
       "      <th>type_error_3</th>\n",
       "      <th>type_error_4</th>\n",
       "      <th>type_error_5</th>\n",
       "      <th>type_error_6</th>\n",
       "      <th>type_error_7</th>\n",
       "      <th>type_error_8</th>\n",
       "      <th>type_error_9</th>\n",
       "      <th>type_error_10</th>\n",
       "      <th>type_error_11</th>\n",
       "      <th>type_error_12</th>\n",
       "      <th>type_error_13</th>\n",
       "      <th>type_error_14</th>\n",
       "      <th>type_error_15</th>\n",
       "      <th>type_error_16</th>\n",
       "      <th>type_error_17</th>\n",
       "      <th>type_error_18</th>\n",
       "      <th>type_error_19</th>\n",
       "      <th>type_error_20</th>\n",
       "      <th>type_error_21</th>\n",
       "      <th>type_error_22</th>\n",
       "      <th>type_error_23</th>\n",
       "      <th>type_error_24</th>\n",
       "      <th>type_segment_0</th>\n",
       "      <th>type_segment_1</th>\n",
       "      <th>type_segment_2</th>\n",
       "      <th>type_segment_3</th>\n",
       "    </tr>\n",
       "  </thead>\n",
       "  <tbody>\n",
       "    <tr>\n",
       "      <th>0</th>\n",
       "      <td>1</td>\n",
       "      <td>-745</td>\n",
       "      <td>84</td>\n",
       "      <td>14419</td>\n",
       "      <td>56.73</td>\n",
       "      <td>50.08</td>\n",
       "      <td>110.84</td>\n",
       "      <td>60.76</td>\n",
       "      <td>0.0</td>\n",
       "      <td>16</td>\n",
       "      <td>13</td>\n",
       "      <td>8</td>\n",
       "      <td>160.10</td>\n",
       "      <td>81674</td>\n",
       "      <td>1.0</td>\n",
       "      <td>1</td>\n",
       "      <td>198.0</td>\n",
       "      <td>-742</td>\n",
       "      <td>3</td>\n",
       "      <td>0</td>\n",
       "      <td>0</td>\n",
       "      <td>0</td>\n",
       "      <td>0</td>\n",
       "      <td>24</td>\n",
       "      <td>4.995833</td>\n",
       "      <td>0.166667</td>\n",
       "      <td>4</td>\n",
       "      <td>36</td>\n",
       "      <td>1.500000</td>\n",
       "      <td>-0.065000</td>\n",
       "      <td>2</td>\n",
       "      <td>0.083333</td>\n",
       "      <td>0</td>\n",
       "      <td>14</td>\n",
       "      <td>0</td>\n",
       "      <td>1</td>\n",
       "      <td>0</td>\n",
       "      <td>0</td>\n",
       "      <td>1</td>\n",
       "      <td>1</td>\n",
       "      <td>0</td>\n",
       "      <td>0</td>\n",
       "      <td>0</td>\n",
       "      <td>1</td>\n",
       "      <td>0</td>\n",
       "      <td>1</td>\n",
       "      <td>0</td>\n",
       "      <td>1</td>\n",
       "      <td>1</td>\n",
       "      <td>0</td>\n",
       "      <td>0</td>\n",
       "      <td>0</td>\n",
       "      <td>1</td>\n",
       "      <td>0</td>\n",
       "      <td>0</td>\n",
       "      <td>1</td>\n",
       "      <td>0</td>\n",
       "      <td>0</td>\n",
       "      <td>0</td>\n",
       "      <td>0</td>\n",
       "      <td>1</td>\n",
       "      <td>1</td>\n",
       "      <td>1</td>\n",
       "      <td>1</td>\n",
       "      <td>0</td>\n",
       "      <td>1</td>\n",
       "      <td>0</td>\n",
       "      <td>0</td>\n",
       "      <td>0</td>\n",
       "      <td>0</td>\n",
       "      <td>0</td>\n",
       "      <td>0</td>\n",
       "      <td>0</td>\n",
       "      <td>0</td>\n",
       "      <td>0</td>\n",
       "      <td>0</td>\n",
       "      <td>0</td>\n",
       "      <td>0</td>\n",
       "      <td>0</td>\n",
       "      <td>0</td>\n",
       "      <td>0</td>\n",
       "      <td>1</td>\n",
       "      <td>0</td>\n",
       "      <td>0</td>\n",
       "      <td>0</td>\n",
       "      <td>0</td>\n",
       "      <td>0</td>\n",
       "      <td>0</td>\n",
       "      <td>0</td>\n",
       "      <td>0</td>\n",
       "      <td>0</td>\n",
       "      <td>0</td>\n",
       "      <td>0</td>\n",
       "      <td>0</td>\n",
       "      <td>0</td>\n",
       "      <td>1</td>\n",
       "      <td>0</td>\n",
       "      <td>0</td>\n",
       "      <td>1</td>\n",
       "      <td>1</td>\n",
       "      <td>0</td>\n",
       "      <td>0</td>\n",
       "      <td>0</td>\n",
       "      <td>1</td>\n",
       "      <td>0</td>\n",
       "      <td>1</td>\n",
       "      <td>1</td>\n",
       "      <td>1</td>\n",
       "      <td>1</td>\n",
       "      <td>0</td>\n",
       "      <td>0</td>\n",
       "      <td>0</td>\n",
       "      <td>1</td>\n",
       "      <td>0</td>\n",
       "      <td>0</td>\n",
       "      <td>1</td>\n",
       "      <td>0</td>\n",
       "      <td>0</td>\n",
       "      <td>0</td>\n",
       "      <td>0</td>\n",
       "      <td>1</td>\n",
       "      <td>1</td>\n",
       "      <td>1</td>\n",
       "      <td>1</td>\n",
       "      <td>0</td>\n",
       "      <td>1</td>\n",
       "      <td>0</td>\n",
       "      <td>0</td>\n",
       "      <td>0</td>\n",
       "      <td>1</td>\n",
       "      <td>0</td>\n",
       "      <td>1</td>\n",
       "      <td>0</td>\n",
       "      <td>0</td>\n",
       "      <td>0</td>\n",
       "      <td>0</td>\n",
       "      <td>0</td>\n",
       "      <td>0</td>\n",
       "      <td>0</td>\n",
       "      <td>0</td>\n",
       "      <td>0</td>\n",
       "      <td>0</td>\n",
       "      <td>0</td>\n",
       "      <td>0</td>\n",
       "      <td>0</td>\n",
       "      <td>0</td>\n",
       "      <td>0</td>\n",
       "      <td>0</td>\n",
       "      <td>0</td>\n",
       "      <td>0</td>\n",
       "      <td>0</td>\n",
       "      <td>0</td>\n",
       "      <td>0</td>\n",
       "      <td>0</td>\n",
       "      <td>1</td>\n",
       "      <td>1</td>\n",
       "      <td>0</td>\n",
       "      <td>0</td>\n",
       "    </tr>\n",
       "    <tr>\n",
       "      <th>1</th>\n",
       "      <td>1</td>\n",
       "      <td>-576</td>\n",
       "      <td>3</td>\n",
       "      <td>3865</td>\n",
       "      <td>20.76</td>\n",
       "      <td>24.74</td>\n",
       "      <td>47.61</td>\n",
       "      <td>22.87</td>\n",
       "      <td>0.0</td>\n",
       "      <td>6</td>\n",
       "      <td>27</td>\n",
       "      <td>28</td>\n",
       "      <td>47.61</td>\n",
       "      <td>5171</td>\n",
       "      <td>2.0</td>\n",
       "      <td>1</td>\n",
       "      <td>198.0</td>\n",
       "      <td>-573</td>\n",
       "      <td>3</td>\n",
       "      <td>0</td>\n",
       "      <td>0</td>\n",
       "      <td>0</td>\n",
       "      <td>0</td>\n",
       "      <td>8</td>\n",
       "      <td>3.387500</td>\n",
       "      <td>0.125000</td>\n",
       "      <td>1</td>\n",
       "      <td>10</td>\n",
       "      <td>1.250000</td>\n",
       "      <td>0.356250</td>\n",
       "      <td>1</td>\n",
       "      <td>0.125000</td>\n",
       "      <td>1</td>\n",
       "      <td>14</td>\n",
       "      <td>0</td>\n",
       "      <td>0</td>\n",
       "      <td>0</td>\n",
       "      <td>0</td>\n",
       "      <td>1</td>\n",
       "      <td>0</td>\n",
       "      <td>1</td>\n",
       "      <td>0</td>\n",
       "      <td>0</td>\n",
       "      <td>0</td>\n",
       "      <td>0</td>\n",
       "      <td>1</td>\n",
       "      <td>0</td>\n",
       "      <td>0</td>\n",
       "      <td>0</td>\n",
       "      <td>0</td>\n",
       "      <td>1</td>\n",
       "      <td>0</td>\n",
       "      <td>0</td>\n",
       "      <td>0</td>\n",
       "      <td>0</td>\n",
       "      <td>0</td>\n",
       "      <td>0</td>\n",
       "      <td>1</td>\n",
       "      <td>0</td>\n",
       "      <td>0</td>\n",
       "      <td>0</td>\n",
       "      <td>0</td>\n",
       "      <td>0</td>\n",
       "      <td>1</td>\n",
       "      <td>1</td>\n",
       "      <td>0</td>\n",
       "      <td>0</td>\n",
       "      <td>0</td>\n",
       "      <td>0</td>\n",
       "      <td>0</td>\n",
       "      <td>0</td>\n",
       "      <td>0</td>\n",
       "      <td>0</td>\n",
       "      <td>0</td>\n",
       "      <td>0</td>\n",
       "      <td>0</td>\n",
       "      <td>1</td>\n",
       "      <td>0</td>\n",
       "      <td>0</td>\n",
       "      <td>0</td>\n",
       "      <td>0</td>\n",
       "      <td>0</td>\n",
       "      <td>0</td>\n",
       "      <td>0</td>\n",
       "      <td>0</td>\n",
       "      <td>0</td>\n",
       "      <td>0</td>\n",
       "      <td>0</td>\n",
       "      <td>0</td>\n",
       "      <td>0</td>\n",
       "      <td>0</td>\n",
       "      <td>0</td>\n",
       "      <td>0</td>\n",
       "      <td>0</td>\n",
       "      <td>0</td>\n",
       "      <td>0</td>\n",
       "      <td>0</td>\n",
       "      <td>0</td>\n",
       "      <td>1</td>\n",
       "      <td>0</td>\n",
       "      <td>1</td>\n",
       "      <td>1</td>\n",
       "      <td>0</td>\n",
       "      <td>0</td>\n",
       "      <td>0</td>\n",
       "      <td>1</td>\n",
       "      <td>0</td>\n",
       "      <td>0</td>\n",
       "      <td>0</td>\n",
       "      <td>0</td>\n",
       "      <td>1</td>\n",
       "      <td>0</td>\n",
       "      <td>0</td>\n",
       "      <td>0</td>\n",
       "      <td>0</td>\n",
       "      <td>0</td>\n",
       "      <td>0</td>\n",
       "      <td>1</td>\n",
       "      <td>0</td>\n",
       "      <td>0</td>\n",
       "      <td>0</td>\n",
       "      <td>0</td>\n",
       "      <td>0</td>\n",
       "      <td>1</td>\n",
       "      <td>1</td>\n",
       "      <td>0</td>\n",
       "      <td>0</td>\n",
       "      <td>0</td>\n",
       "      <td>0</td>\n",
       "      <td>1</td>\n",
       "      <td>1</td>\n",
       "      <td>0</td>\n",
       "      <td>0</td>\n",
       "      <td>0</td>\n",
       "      <td>0</td>\n",
       "      <td>0</td>\n",
       "      <td>0</td>\n",
       "      <td>0</td>\n",
       "      <td>0</td>\n",
       "      <td>0</td>\n",
       "      <td>0</td>\n",
       "      <td>0</td>\n",
       "      <td>0</td>\n",
       "      <td>0</td>\n",
       "      <td>0</td>\n",
       "      <td>0</td>\n",
       "      <td>0</td>\n",
       "      <td>0</td>\n",
       "      <td>0</td>\n",
       "      <td>0</td>\n",
       "      <td>0</td>\n",
       "      <td>0</td>\n",
       "      <td>0</td>\n",
       "      <td>0</td>\n",
       "      <td>1</td>\n",
       "      <td>0</td>\n",
       "      <td>0</td>\n",
       "      <td>0</td>\n",
       "    </tr>\n",
       "    <tr>\n",
       "      <th>2</th>\n",
       "      <td>1</td>\n",
       "      <td>-521</td>\n",
       "      <td>1</td>\n",
       "      <td>8</td>\n",
       "      <td>57.30</td>\n",
       "      <td>49.40</td>\n",
       "      <td>107.58</td>\n",
       "      <td>58.18</td>\n",
       "      <td>0.0</td>\n",
       "      <td>2</td>\n",
       "      <td>5</td>\n",
       "      <td>4</td>\n",
       "      <td>164.44</td>\n",
       "      <td>18</td>\n",
       "      <td>2.0</td>\n",
       "      <td>1</td>\n",
       "      <td>198.0</td>\n",
       "      <td>-519</td>\n",
       "      <td>2</td>\n",
       "      <td>0</td>\n",
       "      <td>0</td>\n",
       "      <td>0</td>\n",
       "      <td>0</td>\n",
       "      <td>23</td>\n",
       "      <td>4.150435</td>\n",
       "      <td>0.304348</td>\n",
       "      <td>7</td>\n",
       "      <td>35</td>\n",
       "      <td>1.521739</td>\n",
       "      <td>-0.114783</td>\n",
       "      <td>4</td>\n",
       "      <td>0.173913</td>\n",
       "      <td>2</td>\n",
       "      <td>14</td>\n",
       "      <td>0</td>\n",
       "      <td>1</td>\n",
       "      <td>0</td>\n",
       "      <td>0</td>\n",
       "      <td>1</td>\n",
       "      <td>1</td>\n",
       "      <td>0</td>\n",
       "      <td>0</td>\n",
       "      <td>0</td>\n",
       "      <td>1</td>\n",
       "      <td>0</td>\n",
       "      <td>1</td>\n",
       "      <td>1</td>\n",
       "      <td>1</td>\n",
       "      <td>1</td>\n",
       "      <td>0</td>\n",
       "      <td>0</td>\n",
       "      <td>0</td>\n",
       "      <td>1</td>\n",
       "      <td>0</td>\n",
       "      <td>0</td>\n",
       "      <td>1</td>\n",
       "      <td>0</td>\n",
       "      <td>0</td>\n",
       "      <td>1</td>\n",
       "      <td>0</td>\n",
       "      <td>0</td>\n",
       "      <td>0</td>\n",
       "      <td>0</td>\n",
       "      <td>1</td>\n",
       "      <td>0</td>\n",
       "      <td>1</td>\n",
       "      <td>0</td>\n",
       "      <td>0</td>\n",
       "      <td>0</td>\n",
       "      <td>0</td>\n",
       "      <td>0</td>\n",
       "      <td>0</td>\n",
       "      <td>0</td>\n",
       "      <td>0</td>\n",
       "      <td>0</td>\n",
       "      <td>0</td>\n",
       "      <td>0</td>\n",
       "      <td>0</td>\n",
       "      <td>0</td>\n",
       "      <td>0</td>\n",
       "      <td>1</td>\n",
       "      <td>1</td>\n",
       "      <td>1</td>\n",
       "      <td>0</td>\n",
       "      <td>0</td>\n",
       "      <td>0</td>\n",
       "      <td>0</td>\n",
       "      <td>0</td>\n",
       "      <td>0</td>\n",
       "      <td>0</td>\n",
       "      <td>0</td>\n",
       "      <td>0</td>\n",
       "      <td>0</td>\n",
       "      <td>0</td>\n",
       "      <td>0</td>\n",
       "      <td>1</td>\n",
       "      <td>0</td>\n",
       "      <td>0</td>\n",
       "      <td>1</td>\n",
       "      <td>1</td>\n",
       "      <td>0</td>\n",
       "      <td>0</td>\n",
       "      <td>0</td>\n",
       "      <td>1</td>\n",
       "      <td>0</td>\n",
       "      <td>1</td>\n",
       "      <td>1</td>\n",
       "      <td>1</td>\n",
       "      <td>1</td>\n",
       "      <td>0</td>\n",
       "      <td>0</td>\n",
       "      <td>0</td>\n",
       "      <td>1</td>\n",
       "      <td>0</td>\n",
       "      <td>0</td>\n",
       "      <td>1</td>\n",
       "      <td>0</td>\n",
       "      <td>0</td>\n",
       "      <td>1</td>\n",
       "      <td>0</td>\n",
       "      <td>0</td>\n",
       "      <td>0</td>\n",
       "      <td>0</td>\n",
       "      <td>1</td>\n",
       "      <td>0</td>\n",
       "      <td>1</td>\n",
       "      <td>0</td>\n",
       "      <td>0</td>\n",
       "      <td>0</td>\n",
       "      <td>1</td>\n",
       "      <td>0</td>\n",
       "      <td>1</td>\n",
       "      <td>0</td>\n",
       "      <td>0</td>\n",
       "      <td>0</td>\n",
       "      <td>1</td>\n",
       "      <td>0</td>\n",
       "      <td>0</td>\n",
       "      <td>0</td>\n",
       "      <td>0</td>\n",
       "      <td>0</td>\n",
       "      <td>0</td>\n",
       "      <td>0</td>\n",
       "      <td>0</td>\n",
       "      <td>0</td>\n",
       "      <td>0</td>\n",
       "      <td>0</td>\n",
       "      <td>0</td>\n",
       "      <td>0</td>\n",
       "      <td>0</td>\n",
       "      <td>0</td>\n",
       "      <td>0</td>\n",
       "      <td>0</td>\n",
       "      <td>0</td>\n",
       "      <td>1</td>\n",
       "      <td>1</td>\n",
       "      <td>0</td>\n",
       "      <td>0</td>\n",
       "    </tr>\n",
       "    <tr>\n",
       "      <th>3</th>\n",
       "      <td>1</td>\n",
       "      <td>-469</td>\n",
       "      <td>21</td>\n",
       "      <td>6094</td>\n",
       "      <td>59.26</td>\n",
       "      <td>55.67</td>\n",
       "      <td>118.09</td>\n",
       "      <td>62.42</td>\n",
       "      <td>0.0</td>\n",
       "      <td>9</td>\n",
       "      <td>5</td>\n",
       "      <td>4</td>\n",
       "      <td>174.38</td>\n",
       "      <td>24190</td>\n",
       "      <td>2.0</td>\n",
       "      <td>1</td>\n",
       "      <td>198.0</td>\n",
       "      <td>-467</td>\n",
       "      <td>2</td>\n",
       "      <td>0</td>\n",
       "      <td>0</td>\n",
       "      <td>0</td>\n",
       "      <td>1</td>\n",
       "      <td>24</td>\n",
       "      <td>3.940000</td>\n",
       "      <td>0.250000</td>\n",
       "      <td>6</td>\n",
       "      <td>36</td>\n",
       "      <td>1.500000</td>\n",
       "      <td>0.299583</td>\n",
       "      <td>3</td>\n",
       "      <td>0.125000</td>\n",
       "      <td>3</td>\n",
       "      <td>14</td>\n",
       "      <td>0</td>\n",
       "      <td>1</td>\n",
       "      <td>0</td>\n",
       "      <td>1</td>\n",
       "      <td>1</td>\n",
       "      <td>1</td>\n",
       "      <td>0</td>\n",
       "      <td>0</td>\n",
       "      <td>0</td>\n",
       "      <td>0</td>\n",
       "      <td>0</td>\n",
       "      <td>1</td>\n",
       "      <td>1</td>\n",
       "      <td>1</td>\n",
       "      <td>1</td>\n",
       "      <td>0</td>\n",
       "      <td>0</td>\n",
       "      <td>0</td>\n",
       "      <td>1</td>\n",
       "      <td>0</td>\n",
       "      <td>0</td>\n",
       "      <td>1</td>\n",
       "      <td>0</td>\n",
       "      <td>1</td>\n",
       "      <td>1</td>\n",
       "      <td>0</td>\n",
       "      <td>0</td>\n",
       "      <td>0</td>\n",
       "      <td>0</td>\n",
       "      <td>1</td>\n",
       "      <td>0</td>\n",
       "      <td>1</td>\n",
       "      <td>1</td>\n",
       "      <td>0</td>\n",
       "      <td>0</td>\n",
       "      <td>0</td>\n",
       "      <td>0</td>\n",
       "      <td>0</td>\n",
       "      <td>0</td>\n",
       "      <td>0</td>\n",
       "      <td>0</td>\n",
       "      <td>0</td>\n",
       "      <td>0</td>\n",
       "      <td>0</td>\n",
       "      <td>0</td>\n",
       "      <td>0</td>\n",
       "      <td>1</td>\n",
       "      <td>1</td>\n",
       "      <td>0</td>\n",
       "      <td>0</td>\n",
       "      <td>1</td>\n",
       "      <td>0</td>\n",
       "      <td>0</td>\n",
       "      <td>0</td>\n",
       "      <td>0</td>\n",
       "      <td>0</td>\n",
       "      <td>0</td>\n",
       "      <td>0</td>\n",
       "      <td>0</td>\n",
       "      <td>0</td>\n",
       "      <td>0</td>\n",
       "      <td>1</td>\n",
       "      <td>0</td>\n",
       "      <td>1</td>\n",
       "      <td>1</td>\n",
       "      <td>1</td>\n",
       "      <td>0</td>\n",
       "      <td>0</td>\n",
       "      <td>0</td>\n",
       "      <td>0</td>\n",
       "      <td>0</td>\n",
       "      <td>1</td>\n",
       "      <td>1</td>\n",
       "      <td>1</td>\n",
       "      <td>1</td>\n",
       "      <td>1</td>\n",
       "      <td>0</td>\n",
       "      <td>0</td>\n",
       "      <td>1</td>\n",
       "      <td>0</td>\n",
       "      <td>0</td>\n",
       "      <td>1</td>\n",
       "      <td>0</td>\n",
       "      <td>1</td>\n",
       "      <td>1</td>\n",
       "      <td>0</td>\n",
       "      <td>0</td>\n",
       "      <td>0</td>\n",
       "      <td>0</td>\n",
       "      <td>1</td>\n",
       "      <td>0</td>\n",
       "      <td>1</td>\n",
       "      <td>1</td>\n",
       "      <td>0</td>\n",
       "      <td>0</td>\n",
       "      <td>1</td>\n",
       "      <td>0</td>\n",
       "      <td>1</td>\n",
       "      <td>1</td>\n",
       "      <td>0</td>\n",
       "      <td>0</td>\n",
       "      <td>1</td>\n",
       "      <td>0</td>\n",
       "      <td>0</td>\n",
       "      <td>0</td>\n",
       "      <td>0</td>\n",
       "      <td>0</td>\n",
       "      <td>0</td>\n",
       "      <td>0</td>\n",
       "      <td>0</td>\n",
       "      <td>0</td>\n",
       "      <td>0</td>\n",
       "      <td>0</td>\n",
       "      <td>0</td>\n",
       "      <td>0</td>\n",
       "      <td>0</td>\n",
       "      <td>0</td>\n",
       "      <td>0</td>\n",
       "      <td>0</td>\n",
       "      <td>0</td>\n",
       "      <td>1</td>\n",
       "      <td>1</td>\n",
       "      <td>0</td>\n",
       "      <td>0</td>\n",
       "    </tr>\n",
       "    <tr>\n",
       "      <th>4</th>\n",
       "      <td>1</td>\n",
       "      <td>-437</td>\n",
       "      <td>33</td>\n",
       "      <td>7576</td>\n",
       "      <td>48.03</td>\n",
       "      <td>43.79</td>\n",
       "      <td>87.76</td>\n",
       "      <td>44.97</td>\n",
       "      <td>0.0</td>\n",
       "      <td>17</td>\n",
       "      <td>15</td>\n",
       "      <td>15</td>\n",
       "      <td>140.43</td>\n",
       "      <td>35482</td>\n",
       "      <td>2.0</td>\n",
       "      <td>1</td>\n",
       "      <td>198.0</td>\n",
       "      <td>-435</td>\n",
       "      <td>2</td>\n",
       "      <td>0</td>\n",
       "      <td>0</td>\n",
       "      <td>0</td>\n",
       "      <td>0</td>\n",
       "      <td>24</td>\n",
       "      <td>3.380833</td>\n",
       "      <td>0.416667</td>\n",
       "      <td>10</td>\n",
       "      <td>36</td>\n",
       "      <td>1.500000</td>\n",
       "      <td>-0.391667</td>\n",
       "      <td>5</td>\n",
       "      <td>0.208333</td>\n",
       "      <td>4</td>\n",
       "      <td>14</td>\n",
       "      <td>0</td>\n",
       "      <td>1</td>\n",
       "      <td>0</td>\n",
       "      <td>0</td>\n",
       "      <td>1</td>\n",
       "      <td>1</td>\n",
       "      <td>0</td>\n",
       "      <td>0</td>\n",
       "      <td>0</td>\n",
       "      <td>0</td>\n",
       "      <td>0</td>\n",
       "      <td>1</td>\n",
       "      <td>0</td>\n",
       "      <td>1</td>\n",
       "      <td>1</td>\n",
       "      <td>0</td>\n",
       "      <td>1</td>\n",
       "      <td>0</td>\n",
       "      <td>1</td>\n",
       "      <td>0</td>\n",
       "      <td>0</td>\n",
       "      <td>1</td>\n",
       "      <td>0</td>\n",
       "      <td>1</td>\n",
       "      <td>0</td>\n",
       "      <td>0</td>\n",
       "      <td>0</td>\n",
       "      <td>0</td>\n",
       "      <td>0</td>\n",
       "      <td>1</td>\n",
       "      <td>1</td>\n",
       "      <td>1</td>\n",
       "      <td>0</td>\n",
       "      <td>0</td>\n",
       "      <td>0</td>\n",
       "      <td>0</td>\n",
       "      <td>0</td>\n",
       "      <td>0</td>\n",
       "      <td>0</td>\n",
       "      <td>0</td>\n",
       "      <td>0</td>\n",
       "      <td>0</td>\n",
       "      <td>0</td>\n",
       "      <td>0</td>\n",
       "      <td>0</td>\n",
       "      <td>0</td>\n",
       "      <td>1</td>\n",
       "      <td>1</td>\n",
       "      <td>1</td>\n",
       "      <td>0</td>\n",
       "      <td>1</td>\n",
       "      <td>0</td>\n",
       "      <td>0</td>\n",
       "      <td>0</td>\n",
       "      <td>0</td>\n",
       "      <td>0</td>\n",
       "      <td>0</td>\n",
       "      <td>0</td>\n",
       "      <td>0</td>\n",
       "      <td>0</td>\n",
       "      <td>0</td>\n",
       "      <td>1</td>\n",
       "      <td>0</td>\n",
       "      <td>0</td>\n",
       "      <td>1</td>\n",
       "      <td>1</td>\n",
       "      <td>0</td>\n",
       "      <td>0</td>\n",
       "      <td>0</td>\n",
       "      <td>0</td>\n",
       "      <td>0</td>\n",
       "      <td>1</td>\n",
       "      <td>1</td>\n",
       "      <td>1</td>\n",
       "      <td>1</td>\n",
       "      <td>1</td>\n",
       "      <td>1</td>\n",
       "      <td>0</td>\n",
       "      <td>1</td>\n",
       "      <td>0</td>\n",
       "      <td>0</td>\n",
       "      <td>1</td>\n",
       "      <td>0</td>\n",
       "      <td>1</td>\n",
       "      <td>0</td>\n",
       "      <td>0</td>\n",
       "      <td>0</td>\n",
       "      <td>0</td>\n",
       "      <td>0</td>\n",
       "      <td>1</td>\n",
       "      <td>1</td>\n",
       "      <td>1</td>\n",
       "      <td>0</td>\n",
       "      <td>0</td>\n",
       "      <td>0</td>\n",
       "      <td>1</td>\n",
       "      <td>1</td>\n",
       "      <td>0</td>\n",
       "      <td>0</td>\n",
       "      <td>0</td>\n",
       "      <td>0</td>\n",
       "      <td>1</td>\n",
       "      <td>0</td>\n",
       "      <td>0</td>\n",
       "      <td>0</td>\n",
       "      <td>0</td>\n",
       "      <td>0</td>\n",
       "      <td>0</td>\n",
       "      <td>0</td>\n",
       "      <td>0</td>\n",
       "      <td>0</td>\n",
       "      <td>0</td>\n",
       "      <td>0</td>\n",
       "      <td>0</td>\n",
       "      <td>0</td>\n",
       "      <td>0</td>\n",
       "      <td>0</td>\n",
       "      <td>0</td>\n",
       "      <td>0</td>\n",
       "      <td>0</td>\n",
       "      <td>1</td>\n",
       "      <td>1</td>\n",
       "      <td>0</td>\n",
       "      <td>0</td>\n",
       "    </tr>\n",
       "  </tbody>\n",
       "</table>\n",
       "</div>"
      ],
      "text/plain": [
       "   unit_id  days_start  tournament_id  total_score_id  base_score_x  \\\n",
       "0        1        -745             84           14419         56.73   \n",
       "1        1        -576              3            3865         20.76   \n",
       "2        1        -521              1               8         57.30   \n",
       "3        1        -469             21            6094         59.26   \n",
       "4        1        -437             33            7576         48.03   \n",
       "\n",
       "   components_score  total_score  elements_score  decreasings_score  \\\n",
       "0             50.08       110.84           60.76                0.0   \n",
       "1             24.74        47.61           22.87                0.0   \n",
       "2             49.40       107.58           58.18                0.0   \n",
       "3             55.67       118.09           62.42                0.0   \n",
       "4             43.79        87.76           44.97                0.0   \n",
       "\n",
       "   starting_place  place  overall_place  overall_total_score     id  \\\n",
       "0              16     13              8               160.10  81674   \n",
       "1               6     27             28                47.61   5171   \n",
       "2               2      5              4               164.44     18   \n",
       "3               9      5              4               174.38  24190   \n",
       "4              17     15             15               140.43  35482   \n",
       "\n",
       "   origin_id  color  school_id  days_end  days  is_combo_sum  rep_sum  \\\n",
       "0        1.0      1      198.0      -742     3             0        0   \n",
       "1        2.0      1      198.0      -573     3             0        0   \n",
       "2        2.0      1      198.0      -519     2             0        0   \n",
       "3        2.0      1      198.0      -467     2             0        0   \n",
       "4        2.0      1      198.0      -435     2             0        0   \n",
       "\n",
       "   seq_sum  star_sum  total_count  base_score_y_mean  decrease_mean  \\\n",
       "0        0         0           24           4.995833       0.166667   \n",
       "1        0         0            8           3.387500       0.125000   \n",
       "2        0         0           23           4.150435       0.304348   \n",
       "3        0         1           24           3.940000       0.250000   \n",
       "4        0         0           24           3.380833       0.416667   \n",
       "\n",
       "   decrease_sum  combo_sum  combo_mean  goe_mean  errors_sum  erorres_mean  \\\n",
       "0             4         36    1.500000 -0.065000           2      0.083333   \n",
       "1             1         10    1.250000  0.356250           1      0.125000   \n",
       "2             7         35    1.521739 -0.114783           4      0.173913   \n",
       "3             6         36    1.500000  0.299583           3      0.125000   \n",
       "4            10         36    1.500000 -0.391667           5      0.208333   \n",
       "\n",
       "   number  max_number  correct_elements_1A  correct_elements_1Eu  \\\n",
       "0       0          14                    0                     1   \n",
       "1       1          14                    0                     0   \n",
       "2       2          14                    0                     1   \n",
       "3       3          14                    0                     1   \n",
       "4       4          14                    0                     1   \n",
       "\n",
       "   correct_elements_1Lo  correct_elements_1Lz  correct_elements_2A  \\\n",
       "0                     0                     0                    1   \n",
       "1                     0                     0                    1   \n",
       "2                     0                     0                    1   \n",
       "3                     0                     1                    1   \n",
       "4                     0                     0                    1   \n",
       "\n",
       "   correct_elements_2F  correct_elements_2Lo  correct_elements_2Lz  \\\n",
       "0                    1                     0                     0   \n",
       "1                    0                     1                     0   \n",
       "2                    1                     0                     0   \n",
       "3                    1                     0                     0   \n",
       "4                    1                     0                     0   \n",
       "\n",
       "   correct_elements_2S  correct_elements_2T  correct_elements_3A  \\\n",
       "0                    0                    1                    0   \n",
       "1                    0                    0                    0   \n",
       "2                    0                    1                    0   \n",
       "3                    0                    0                    0   \n",
       "4                    0                    0                    0   \n",
       "\n",
       "   correct_elements_3F  correct_elements_3Lo  correct_elements_3Lz  \\\n",
       "0                    1                     0                     1   \n",
       "1                    1                     0                     0   \n",
       "2                    1                     1                     1   \n",
       "3                    1                     1                     1   \n",
       "4                    1                     0                     1   \n",
       "\n",
       "   correct_elements_3S  correct_elements_3T  correct_elements_CCoSp2  \\\n",
       "0                    1                    0                        0   \n",
       "1                    0                    0                        1   \n",
       "2                    1                    0                        0   \n",
       "3                    1                    0                        0   \n",
       "4                    1                    0                        1   \n",
       "\n",
       "   correct_elements_CCoSp3  correct_elements_CCoSp4  correct_elements_CSSp4  \\\n",
       "0                        0                        1                       0   \n",
       "1                        0                        0                       0   \n",
       "2                        0                        1                       0   \n",
       "3                        0                        1                       0   \n",
       "4                        0                        1                       0   \n",
       "\n",
       "   correct_elements_ChSpl1  correct_elements_ChSq1  correct_elements_FCCoSp4  \\\n",
       "0                        0                       1                         0   \n",
       "1                        0                       0                         0   \n",
       "2                        0                       1                         0   \n",
       "3                        0                       1                         0   \n",
       "4                        0                       1                         0   \n",
       "\n",
       "   correct_elements_FCSp3  correct_elements_FCSp4  correct_elements_FSSp2  \\\n",
       "0                       0                       0                       0   \n",
       "1                       1                       0                       0   \n",
       "2                       0                       1                       0   \n",
       "3                       1                       1                       0   \n",
       "4                       1                       0                       0   \n",
       "\n",
       "   correct_elements_FSSp3  correct_elements_FSSp4  correct_elements_LSp3  \\\n",
       "0                       1                       1                      1   \n",
       "1                       0                       0                      0   \n",
       "2                       0                       0                      0   \n",
       "3                       0                       0                      0   \n",
       "4                       0                       0                      0   \n",
       "\n",
       "   correct_elements_LSp4  correct_elements_StSq1  correct_elements_StSq2  \\\n",
       "0                      1                       0                       1   \n",
       "1                      1                       1                       0   \n",
       "2                      1                       0                       1   \n",
       "3                      1                       0                       1   \n",
       "4                      1                       1                       1   \n",
       "\n",
       "   correct_elements_StSq3  correct_elements_StSqB  correct_elements_other  \\\n",
       "0                       0                       0                       0   \n",
       "1                       0                       0                       0   \n",
       "2                       0                       0                       0   \n",
       "3                       1                       0                       0   \n",
       "4                       0                       0                       0   \n",
       "\n",
       "   err_elements_1A  err_elements_1Eu  err_elements_1Lo  err_elements_1Lz  \\\n",
       "0                0                 0                 0                 0   \n",
       "1                0                 0                 0                 0   \n",
       "2                0                 0                 0                 0   \n",
       "3                0                 0                 0                 0   \n",
       "4                0                 0                 0                 0   \n",
       "\n",
       "   err_elements_2A  err_elements_2F  err_elements_2Lo  err_elements_2Lz  \\\n",
       "0                0                0                 0                 0   \n",
       "1                0                0                 0                 1   \n",
       "2                0                0                 0                 0   \n",
       "3                0                0                 0                 0   \n",
       "4                0                0                 0                 0   \n",
       "\n",
       "   err_elements_2S  err_elements_2T  err_elements_3A  err_elements_3F  \\\n",
       "0                0                0                0                0   \n",
       "1                0                0                0                0   \n",
       "2                0                0                0                1   \n",
       "3                0                0                0                1   \n",
       "4                0                0                0                1   \n",
       "\n",
       "   err_elements_3Lo  err_elements_3Lz  err_elements_3S  err_elements_3T  \\\n",
       "0                 1                 0                0                0   \n",
       "1                 0                 0                0                0   \n",
       "2                 1                 1                0                0   \n",
       "3                 1                 0                0                1   \n",
       "4                 1                 1                0                1   \n",
       "\n",
       "   err_elements_CCoSp2  err_elements_CCoSp3  err_elements_CCoSp4  \\\n",
       "0                    0                    0                    0   \n",
       "1                    0                    0                    0   \n",
       "2                    0                    0                    0   \n",
       "3                    0                    0                    0   \n",
       "4                    0                    0                    0   \n",
       "\n",
       "   err_elements_CSSp4  err_elements_FCCoSp4  err_elements_FSSp2  \\\n",
       "0                   0                     0                   0   \n",
       "1                   0                     0                   0   \n",
       "2                   0                     0                   0   \n",
       "3                   0                     0                   0   \n",
       "4                   0                     0                   0   \n",
       "\n",
       "   err_elements_FSSp3  err_elements_FSSp4  err_elements_other  \\\n",
       "0                   0                   0                   0   \n",
       "1                   0                   0                   0   \n",
       "2                   0                   0                   0   \n",
       "3                   0                   0                   0   \n",
       "4                   0                   0                   0   \n",
       "\n",
       "   completed_elements_1A  completed_elements_1Eu  completed_elements_1Lo  \\\n",
       "0                      0                       1                       0   \n",
       "1                      0                       0                       0   \n",
       "2                      0                       1                       0   \n",
       "3                      0                       1                       0   \n",
       "4                      0                       1                       0   \n",
       "\n",
       "   completed_elements_1Lz  completed_elements_2A  completed_elements_2F  \\\n",
       "0                       0                      1                      1   \n",
       "1                       0                      1                      0   \n",
       "2                       0                      1                      1   \n",
       "3                       1                      1                      1   \n",
       "4                       0                      1                      1   \n",
       "\n",
       "   completed_elements_2Lo  completed_elements_2Lz  completed_elements_2S  \\\n",
       "0                       0                       0                      0   \n",
       "1                       1                       1                      0   \n",
       "2                       0                       0                      0   \n",
       "3                       0                       0                      0   \n",
       "4                       0                       0                      0   \n",
       "\n",
       "   completed_elements_2T  completed_elements_3A  completed_elements_3F  \\\n",
       "0                      1                      0                      1   \n",
       "1                      0                      0                      1   \n",
       "2                      1                      0                      1   \n",
       "3                      0                      0                      1   \n",
       "4                      0                      0                      1   \n",
       "\n",
       "   completed_elements_3Lo  completed_elements_3Lz  completed_elements_3S  \\\n",
       "0                       1                       1                      1   \n",
       "1                       0                       0                      0   \n",
       "2                       1                       1                      1   \n",
       "3                       1                       1                      1   \n",
       "4                       1                       1                      1   \n",
       "\n",
       "   completed_elements_3T  completed_elements_CCoSp2  \\\n",
       "0                      0                          0   \n",
       "1                      0                          1   \n",
       "2                      0                          0   \n",
       "3                      1                          0   \n",
       "4                      1                          1   \n",
       "\n",
       "   completed_elements_CCoSp3  completed_elements_CCoSp4  \\\n",
       "0                          0                          1   \n",
       "1                          0                          0   \n",
       "2                          0                          1   \n",
       "3                          0                          1   \n",
       "4                          0                          1   \n",
       "\n",
       "   completed_elements_CSSp4  completed_elements_ChSpl1  \\\n",
       "0                         0                          0   \n",
       "1                         0                          0   \n",
       "2                         0                          0   \n",
       "3                         0                          0   \n",
       "4                         0                          0   \n",
       "\n",
       "   completed_elements_ChSq1  completed_elements_FCCoSp4  \\\n",
       "0                         1                           0   \n",
       "1                         0                           0   \n",
       "2                         1                           0   \n",
       "3                         1                           0   \n",
       "4                         1                           0   \n",
       "\n",
       "   completed_elements_FCSp3  completed_elements_FCSp4  \\\n",
       "0                         0                         0   \n",
       "1                         1                         0   \n",
       "2                         0                         1   \n",
       "3                         1                         1   \n",
       "4                         1                         0   \n",
       "\n",
       "   completed_elements_FSSp2  completed_elements_FSSp3  \\\n",
       "0                         0                         1   \n",
       "1                         0                         0   \n",
       "2                         0                         0   \n",
       "3                         0                         0   \n",
       "4                         0                         0   \n",
       "\n",
       "   completed_elements_FSSp4  completed_elements_LSp3  completed_elements_LSp4  \\\n",
       "0                         1                        1                        1   \n",
       "1                         0                        0                        1   \n",
       "2                         0                        0                        1   \n",
       "3                         0                        0                        1   \n",
       "4                         0                        0                        1   \n",
       "\n",
       "   completed_elements_StSq1  completed_elements_StSq2  \\\n",
       "0                         0                         1   \n",
       "1                         1                         0   \n",
       "2                         0                         1   \n",
       "3                         0                         1   \n",
       "4                         1                         1   \n",
       "\n",
       "   completed_elements_StSq3  completed_elements_StSqB  \\\n",
       "0                         0                         0   \n",
       "1                         0                         0   \n",
       "2                         0                         0   \n",
       "3                         1                         0   \n",
       "4                         0                         0   \n",
       "\n",
       "   completed_elements_other  type_error_0  type_error_1  type_error_2  \\\n",
       "0                         0             1             0             1   \n",
       "1                         0             1             1             0   \n",
       "2                         0             1             0             1   \n",
       "3                         0             1             0             1   \n",
       "4                         0             1             1             0   \n",
       "\n",
       "   type_error_3  type_error_4  type_error_5  type_error_6  type_error_7  \\\n",
       "0             0             0             0             0             0   \n",
       "1             0             0             0             0             0   \n",
       "2             0             0             0             1             0   \n",
       "3             1             0             0             1             0   \n",
       "4             0             0             0             1             0   \n",
       "\n",
       "   type_error_8  type_error_9  type_error_10  type_error_11  type_error_12  \\\n",
       "0             0             0              0              0              0   \n",
       "1             0             0              0              0              0   \n",
       "2             0             0              0              0              0   \n",
       "3             0             0              0              0              0   \n",
       "4             0             0              0              0              0   \n",
       "\n",
       "   type_error_13  type_error_14  type_error_15  type_error_16  type_error_17  \\\n",
       "0              0              0              0              0              0   \n",
       "1              0              0              0              0              0   \n",
       "2              0              0              0              0              0   \n",
       "3              0              0              0              0              0   \n",
       "4              0              0              0              0              0   \n",
       "\n",
       "   type_error_18  type_error_19  type_error_20  type_error_21  type_error_22  \\\n",
       "0              0              0              0              0              0   \n",
       "1              0              0              0              0              0   \n",
       "2              0              0              0              0              0   \n",
       "3              0              0              0              0              0   \n",
       "4              0              0              0              0              0   \n",
       "\n",
       "   type_error_23  type_error_24  type_segment_0  type_segment_1  \\\n",
       "0              0              0               1               1   \n",
       "1              0              0               1               0   \n",
       "2              0              0               1               1   \n",
       "3              0              0               1               1   \n",
       "4              0              0               1               1   \n",
       "\n",
       "   type_segment_2  type_segment_3  \n",
       "0               0               0  \n",
       "1               0               0  \n",
       "2               0               0  \n",
       "3               0               0  \n",
       "4               0               0  "
      ]
     },
     "execution_count": 86,
     "metadata": {},
     "output_type": "execute_result"
    }
   ],
   "source": [
    "df.head()"
   ]
  },
  {
   "cell_type": "markdown",
   "metadata": {},
   "source": [
    "### Вывод\n",
    "\n",
    "Мы собрали финальный датасет и создали обучающие признаки"
   ]
  },
  {
   "cell_type": "markdown",
   "metadata": {},
   "source": [
    "## Обучение и тестирование моделей\n",
    "\n",
    "### Подготовка данных\n",
    "\n",
    "Теперь нам надо разделить данные на обучающую и тестовую выборки. При том, мы укажем какие данные мы будем использовать для обучения и какие данные мы будем предсказывать. Например, будем ли мы предсказывать ошибочно выполненные элементы или наоборот?\n",
    "\n",
    "В качестве признаков мы будем использовать данные из прошлых турниров, в которых участвовал данный спортсмен, а также некоторые признаки, которые известны до проведения турнира. В качестве обучающей выборки мы будем использовать все турниры кроме самых первых, в качестве тестовой выборки мы будем использовать последние турниры. Напишем функцию для разделения нашего датасета."
   ]
  },
  {
   "cell_type": "code",
   "execution_count": 87,
   "metadata": {},
   "outputs": [],
   "source": [
    "def prepare_data(\n",
    "        data=df, # Данные, которые мы используем\n",
    "        shifts = 2, # Количество смещений - то есть количество прошлых турниров, попадающих в признаки\n",
    "        learn = ['err','correct','completed', 'type_error'], # Данные, которые мы будем использовать в качестве признаков - по умолчанию это ошибочно выполненные элементы и верно выполненные элементы\n",
    "          target = ['err'], # То, что мы будем предсказывать (мы можем предсказывать и сразу несколько типов данных)\n",
    "          test_count = 1 # Количество \"последних\" турниров для тестовой выборки \n",
    "         ):\n",
    "    \n",
    "    data = df.copy() \n",
    "    learn_columns_drop = [] # Инициализируем список столбцов, которые мы удалим\n",
    "    not_learn = [] # Определим, какие типы данных мы не будем использовать для обучения\n",
    "    target_columns = ['number', 'max_number'] # Колонки, которые будут использованы для разделения датасета\n",
    "\n",
    "    # Определим, какие типы элементов (правильные, ошибочные и так далее) мы не будем изучать\n",
    "    for i in ['err','correct','completed', 'type_error']:\n",
    "        if i not in learn:\n",
    "            not_learn.append(i)\n",
    "\n",
    "    # Составим список тех столбцов, которые мы выкиним из признаков\n",
    "    for i in data.columns:\n",
    "        for i2 in not_learn:\n",
    "            if (i2 + '_') in i:\n",
    "                learn_columns_drop.append(i)\n",
    "\n",
    "        # Список целевых столбцов (которые мы будем предсказывать)    \n",
    "        for i2 in target:\n",
    "            if (i2+'_') in i:\n",
    "                target_columns.append(i)\n",
    "    \n",
    "    # Список столбцов с сегментами (их мы тоже будем использовать)\n",
    "    segment_cols = []\n",
    "    for i in data.columns:\n",
    "        if 'type_segment_' in i:\n",
    "            segment_cols.append(i)\n",
    "    \n",
    "    # Стобцы, которые будут использованы в признаков не из прошлого, а из данного турнира\n",
    "    add_train = ['color', 'unit_id', 'days_start', 'days', 'days_end', 'tournament_id']\n",
    "    # Сегменты также добавим\n",
    "    add_train += segment_cols\n",
    "    \n",
    "    # Определим целевые признаки. Туда попадут те признаки, которые мы будем предсказывать\n",
    "    y = data[target_columns]\n",
    "\n",
    "    # Выкидываем из данных те признаки, которые мы не будем использовать\n",
    "    data = data.drop(columns = learn_columns_drop)\n",
    "    # Создаём смещения (в зависимости от установленной переменной)\n",
    "    data_shift = data.shift(periods=list(range(1, shifts+1)), axis='index', suffix = '_shifted_')\n",
    "\n",
    "    # Создаём датасет с признаками\n",
    "    X = data_shift.copy()\n",
    "    # В качестве признаком мы берём и некоторые столбцы из самого турнира, а не только из прошлых - добавим их\n",
    "    X  = pd.concat([data[add_train], X], axis=1)\n",
    "    del data_shift\n",
    "    \n",
    "    #  Мы разбили данные на признаки и таргеты. Теперь надо разбить их на тестовые и обучающие данные\n",
    "    # В обучающие данные попадут все турниры, кроме самых первых (определяется по количеству смещений) и тех, что мы будем использовать для теста\n",
    "    y_train = y.query('number >= @shifts and number <= (max_number - @test_count)')\n",
    "    # В тестовые данные попадают последние турниры, определяется переменной\n",
    "    y_test = y.query('number > (max_number - @test_count)')\n",
    "    \n",
    "    # Удаляем лишние стобцы\n",
    "    y_test = y_test.drop(columns = ['number','max_number'])\n",
    "    y_train = y_train.drop(columns = ['number','max_number'])\n",
    "    \n",
    "    # Оставляем среди признаков тольо те строки, которые соответствуют получившимся таргетам\n",
    "    X_train = X.loc[y_train.index]\n",
    "    X_test = X.loc[y_test.index]\n",
    "    \n",
    "    #Удалим колонки в которых совсем мало значений\n",
    "    dr = list(pd.DataFrame(y_test.sum()).rename(columns = {0:'sum'}).sort_values(by = 'sum',ascending = True).query('sum == 0').index)\n",
    "\n",
    "    if len(dr) > 0:\n",
    "        y_train = y_train.drop(columns = dr)\n",
    "        y_test = y_test.drop(columns = dr)\n",
    "    \n",
    "    dr = list(pd.DataFrame(y_train.sum()).rename(columns = {0:'sum'}).sort_values(by = 'sum',ascending = True).query('sum == 0').index)\n",
    "\n",
    "    if len(dr) > 0:\n",
    "        y_train = y_train.drop(columns = dr)\n",
    "        y_test = y_test.drop(columns = dr)\n",
    "\n",
    "    return X_train, X_test, y_train, y_test\n",
    "\n",
    "\n",
    "\n"
   ]
  },
  {
   "cell_type": "markdown",
   "metadata": {},
   "source": [
    "Мы написали функцию, которая может разбивать наши данные. Теперь применем эту функцию чтобы подготовить данные для применение выполненных впринципе элементов. "
   ]
  },
  {
   "cell_type": "code",
   "execution_count": 88,
   "metadata": {},
   "outputs": [
    {
     "data": {
      "text/plain": [
       "<Axes: >"
      ]
     },
     "execution_count": 88,
     "metadata": {},
     "output_type": "execute_result"
    },
    {
     "data": {
      "image/png": "[encoded data removed]",
      "text/plain": [
       "<Figure size 1200x400 with 1 Axes>"
      ]
     },
     "metadata": {},
     "output_type": "display_data"
    }
   ],
   "source": [
    "X_train, X_test, y_train, y_test = prepare_data(data=df, shifts = 1, learn = ['err','correct','completed', 'type_error'], target = ['completed'], test_count = 1)\n",
    "pd.DataFrame(y_train.sum()).rename(columns = {0:'Count'}).sort_values(by = 'Count', ascending = False).plot.bar(figsize = (12,4))"
   ]
  },
  {
   "cell_type": "markdown",
   "metadata": {},
   "source": [
    "Мы наблюдаем сильный дисбаланс классов. После того, как мы объединили финальный датасет, некоторые элементы снова оказались выполнены меньше 1000 раз, поскольку они повторялись внутри одного турнира. Нам нужно решить проблему дибаланса классов. Напишем специальную функцию."
   ]
  },
  {
   "cell_type": "code",
   "execution_count": 89,
   "metadata": {},
   "outputs": [],
   "source": [
    "def smart_upsampling(X,y): # Данные, которые мы будем семплировать (в данном случае, только тренировочные данные)\n",
    "    r_classes = list(y.columns) # Список всех колонок target\n",
    "    classes = list(pd.DataFrame(y.sum()).rename(columns = {0:'sum'}).sort_values(by = 'sum',ascending = True).reset_index()['index']) #Список колонок таргета с количеством элементов\n",
    "    train_classes = list(X.columns) # Список колонок с признаками\n",
    "    max_value = y.sum().max() # Максимальное количество элементов\n",
    "    train = pd.concat([X, y], axis = 1) # Временно объединяем датасет\n",
    "    train_ret = train.copy() # Копируем датасет\n",
    "\n",
    "    for i in classes: #Проходимся во всем колонкам таргета\n",
    "        \n",
    "        c_value = train_ret[i].sum() # Смотрим конкретное количества элементов в обучающей выборке\n",
    "  \n",
    "        if c_value != 0: # Проверяем не ноль ли их, чтобы избежать ошибки деления на ноль\n",
    "            m_value = round(max_value / c_value) # Теперь нам нужно определить, на какое число умножать наш элемент. Число равно округлённому делению максимального количества элементов на количество конкретного элемента\n",
    "            # Грубо говоря, если наш элемент встречается в два раза реже, чем максимальный, то умножаем на два.\n",
    "           \n",
    "            if m_value > 1: # Проверяем, надо ли нам умножать\n",
    "                q_string = f\"{i} == 1\" \n",
    "                tmp = train.query(q_string).copy() # Выделяем строки, которые будем копировать, то есть где наш класс равен единицы\n",
    "                tmp2 = tmp.copy()\n",
    "                \n",
    "                for i2 in range(m_value - 1): # Копируем наши строки (мы учитываем, что в данных уже есть один набор строк)\n",
    "                    tmp2 = pd.concat([tmp2, tmp], axis = 0)\n",
    "\n",
    "                train_ret = pd.concat([tmp2, train_ret], axis = 0) # Добавляем в данные наши строки\n",
    "                \n",
    "    return train_ret[train_classes], train_ret[r_classes]"
   ]
  },
  {
   "cell_type": "markdown",
   "metadata": {},
   "source": [
    "Проверим нашу функцию"
   ]
  },
  {
   "cell_type": "code",
   "execution_count": 90,
   "metadata": {},
   "outputs": [],
   "source": [
    "X_train, y_train = smart_upsampling(X_train, y_train )"
   ]
  },
  {
   "cell_type": "code",
   "execution_count": 91,
   "metadata": {},
   "outputs": [
    {
     "data": {
      "text/plain": [
       "<Axes: >"
      ]
     },
     "execution_count": 91,
     "metadata": {},
     "output_type": "execute_result"
    },
    {
     "data": {
      "image/png": "[encoded data removed]",
      "text/plain": [
       "<Figure size 1200x400 with 1 Axes>"
      ]
     },
     "metadata": {},
     "output_type": "display_data"
    }
   ],
   "source": [
    "pd.DataFrame(y_train.sum()).rename(columns = {0:'Count'}).sort_values(by = 'Count', ascending = False).plot.bar(figsize = (12,4))"
   ]
  },
  {
   "cell_type": "markdown",
   "metadata": {},
   "source": [
    "В целом, дисбаланс остаётся, поскольку в одной строке может быть много элементов, и редкие элементы, то есть те, которые мы хотим скопировать, могут встретиться вместе с частыми, которые нам копировать не нужно. Таким образом, частые элементы также будут копироваться. Тем не менее, такой метод позволил улучшить метрики, причём в большей степени, чем простое дублирование датасета, потому мы всё же будем его использовать."
   ]
  },
  {
   "cell_type": "markdown",
   "metadata": {},
   "source": [
    "### Получение метрик\n",
    "\n",
    "Нам нужно получить метрики для наших моделей. Мы будем смотреть среднее для точности, f1 и так далее. Напишем вспомогательные функции"
   ]
  },
  {
   "cell_type": "code",
   "execution_count": 92,
   "metadata": {},
   "outputs": [],
   "source": [
    "# Функция, для вычисление точности\n",
    "def multilabel_accuracy(true,predicted):\n",
    "    predicted = pd.DataFrame(data = predicted, columns =list(true.columns) )\n",
    "    acc = []\n",
    "    for i in list(predicted.columns): # Проходимся по каждому предсказанному значению и определяем метрику для него\n",
    "        acc.append(accuracy_score(predicted[i], true[i]))\n",
    "    return acc # Возвращаем список все предсказанных точностей\n",
    "\n",
    "\n",
    "# Остальные функции действуют по аналогии с первой\n",
    "def multilabel_f1(true,predicted):\n",
    "    predicted = pd.DataFrame(data = predicted, columns =list(true.columns) )\n",
    "    f1 = []\n",
    "    for i in list(predicted.columns):\n",
    "        f1.append(f1_score(predicted[i], true[i], zero_division = 1))\n",
    "    return f1\n",
    "\n",
    "def multilabel_precision_score(true,predicted):\n",
    "    predicted = pd.DataFrame(data = predicted, columns =list(true.columns) )\n",
    "    precision = []\n",
    "    for i in list(predicted.columns):\n",
    "        precision.append(precision_score(predicted[i], true[i], zero_division = 1))\n",
    "    return precision\n",
    "\n",
    "def multilabel_recall_score(true,predicted):\n",
    "    predicted = pd.DataFrame(data = predicted, columns =list(true.columns) )\n",
    "    recall = []\n",
    "    for i in list(predicted.columns):\n",
    "        recall.append(recall_score(predicted[i], true[i], zero_division = 1))\n",
    "    return recall\n",
    "\n"
   ]
  },
  {
   "cell_type": "markdown",
   "metadata": {},
   "source": [
    "Теперь напишем функцию, которая будет выдавать нам полноценный отчёт. Ниже мы составим список наших моделей и сравним их метрики для предсказания разных вещей. Потому функция будет возвращать список, также по желанию она сможет показать метрики для каждого элемента, а не только средние."
   ]
  },
  {
   "cell_type": "code",
   "execution_count": 93,
   "metadata": {},
   "outputs": [],
   "source": [
    "def score_report(\n",
    "        true, # Истинные данные\n",
    "        pred, # Предсказанные значения (порядок важен!)\n",
    "        print_metrics=False,  # Печатать ли значения после получения отчёта?\n",
    "        display_metrics = False, # Показывать ли подробный отчёт (по каждому классу) ?\n",
    "        return_metrics = True,  # Возвращать ли метрики?\n",
    "        model_name = 'default' # Название модели (нужно для составления списка)\n",
    "        ):\n",
    "    \n",
    "\n",
    "    # Получаем наши метрики, используя функции, написанные выше\n",
    "    accuracy = multilabel_accuracy(true, pred)\n",
    "    f1 = multilabel_f1(true, pred)\n",
    "    precision = multilabel_precision_score(true,pred)\n",
    "    recall = multilabel_recall_score(true,pred)\n",
    "    roc_auc = [-1] * len(recall)\n",
    "    try:\n",
    "        roc_auc = roc_auc_score(true,pred,average=None)\n",
    "    except:\n",
    "        pass\n",
    "    \n",
    "    # Делаем список из признаков а также всех метрик для подробного отчёта\n",
    "    lists = [list(true.columns), f1, accuracy,precision, recall, roc_auc]\n",
    "\n",
    "    # Превращаем подробный отчёт в небольшой датафрейм чтобы удобней было смотреть\n",
    "    report  = pd.concat([pd.Series(x) for x in lists], axis=1)\n",
    "    report = report.rename(columns = {0:'element', 1:'f1', 2:'acc',3:'precision',4:'recall', 5:'roc-auc'})\n",
    "\n",
    "    # Печатаем метрики\n",
    "    if print_metrics:\n",
    "        print(f\"f1 : {report['f1'].mean():.2f}, accuracy : {report['acc'].mean():.2f}, precision : {report['precision'].mean():.2f}, recall : {report['recall'].mean():.2f}, roc-auc: {report['roc-auc'].mean():.2f}\")\n",
    "    \n",
    "    # Выводим подробный отчёт\n",
    "    report = report.round(2)\n",
    "    if display_metrics:\n",
    "        display(report)\n",
    "    \n",
    "    # Возвращаем список метрик\n",
    "    r_m = [model_name, report['f1'].mean(), report['acc'].mean(), report['precision'].mean(), report['recall'].mean(), report['roc-auc'].mean()]\n",
    "    if return_metrics:\n",
    "        return r_m"
   ]
  },
  {
   "cell_type": "markdown",
   "metadata": {},
   "source": [
    "Теперь напишем функцию, которая выведет итоговую таблицу с метриками для разных моделей. Она будут принимать список и преобразовывать его в датафрейм, смотря на который мы сможем сравнить наши модели"
   ]
  },
  {
   "cell_type": "code",
   "execution_count": 94,
   "metadata": {},
   "outputs": [],
   "source": [
    "def make_report(report):\n",
    "    \n",
    "    return pd.DataFrame(report).rename(columns = {0:'Model', 1:'f1', 2:'acc', 3:'precision', 4:'recall', 5:'roc-auc'}).round(2).sort_values(by = 'f1', ascending = True)"
   ]
  },
  {
   "cell_type": "markdown",
   "metadata": {},
   "source": [
    "### Обучение и тестирование моделей\n",
    "\n",
    "Для начала нам нужно обучить dummy-модели, чтобы проверить на адекватность настоящие модели. Для этого напишем отдельную функцию"
   ]
  },
  {
   "cell_type": "code",
   "execution_count": 95,
   "metadata": {},
   "outputs": [],
   "source": [
    "\n",
    "def dummy_test(X_train, X_test, y_train, y_test): # Данные\n",
    "\n",
    "    report = [] # Список для отчёта\n",
    "    for i in ['most_frequent', 'prior', 'stratified', 'uniform', 'constant_1', 'constant_0']: # Все виды \"стратегий\", которые мы будем применять для кукольной модели\n",
    "        \n",
    "        #О бучаем кукольные модели\n",
    "        if i not in ['constant_1', 'constant_0']:\n",
    "            dummy_clf = DummyClassifier(strategy = i, random_state = 42)\n",
    "            dummy_clf.fit(X_train, y_train)\n",
    "        elif i == 'constant_1':\n",
    "            dummy_clf = DummyClassifier(strategy = 'constant', constant= [1] * len(y_train.columns))\n",
    "            dummy_clf.fit(X_train, y_train)\n",
    "        else:\n",
    "            dummy_clf = DummyClassifier(strategy = 'constant', constant= [0] * len(y_train.columns))\n",
    "            dummy_clf.fit(X_train, y_train)\n",
    "        p = dummy_clf.predict(X_test)\n",
    "        # Добавляем метрики в отчёт\n",
    "        report.append(score_report(y_test,p,print_metrics=False, model_name=f'Dummy ({i})') )\n",
    "\n",
    "    return report \n"
   ]
  },
  {
   "cell_type": "markdown",
   "metadata": {},
   "source": [
    "Теперь обучим несколько моделей в каждой категори и посмотрим, какая из них в результате справится лучше. Инициализируем списки"
   ]
  },
  {
   "cell_type": "code",
   "execution_count": 96,
   "metadata": {},
   "outputs": [],
   "source": [
    "total_report = {'err':[],'correct':[],'completed':[], 'type_error':[]}"
   ]
  },
  {
   "cell_type": "code",
   "execution_count": 97,
   "metadata": {},
   "outputs": [
    {
     "data": {
      "application/vnd.jupyter.widget-view+json": {
       "model_id": "e16d3060d97b49b3bc1022a357c430b2",
       "version_major": 2,
       "version_minor": 0
      },
      "text/plain": [
       "  0%|          | 0/4 [00:00<?, ?it/s]"
      ]
     },
     "metadata": {},
     "output_type": "display_data"
    },
    {
     "name": "stdout",
     "output_type": "stream",
     "text": [
      "Dummy\n",
      "CatBoost\n",
      "Learning rate set to 0.03293\n",
      "0:\tlearn: 0.6410848\ttotal: 264ms\tremaining: 4m 23s\n",
      "100:\tlearn: 0.1619301\ttotal: 12.1s\tremaining: 1m 47s\n",
      "200:\tlearn: 0.1282098\ttotal: 24.3s\tremaining: 1m 36s\n",
      "300:\tlearn: 0.1098355\ttotal: 36.4s\tremaining: 1m 24s\n",
      "400:\tlearn: 0.0978266\ttotal: 48.4s\tremaining: 1m 12s\n",
      "500:\tlearn: 0.0895520\ttotal: 1m\tremaining: 1m\n",
      "600:\tlearn: 0.0833694\ttotal: 1m 12s\tremaining: 47.8s\n",
      "700:\tlearn: 0.0786920\ttotal: 1m 24s\tremaining: 35.8s\n",
      "800:\tlearn: 0.0748051\ttotal: 1m 35s\tremaining: 23.8s\n",
      "900:\tlearn: 0.0715623\ttotal: 1m 47s\tremaining: 11.8s\n",
      "999:\tlearn: 0.0689661\ttotal: 2m\tremaining: 0us\n",
      "XGBClassifier\n",
      "Dummy\n",
      "CatBoost\n",
      "Learning rate set to 0.038213\n",
      "0:\tlearn: 0.6500852\ttotal: 197ms\tremaining: 3m 16s\n",
      "100:\tlearn: 0.2823979\ttotal: 21.6s\tremaining: 3m 12s\n",
      "200:\tlearn: 0.2529177\ttotal: 43.2s\tremaining: 2m 51s\n",
      "300:\tlearn: 0.2339690\ttotal: 1m 4s\tremaining: 2m 29s\n",
      "400:\tlearn: 0.2195411\ttotal: 1m 25s\tremaining: 2m 7s\n",
      "500:\tlearn: 0.2075944\ttotal: 1m 45s\tremaining: 1m 45s\n",
      "600:\tlearn: 0.1972332\ttotal: 2m 5s\tremaining: 1m 23s\n",
      "700:\tlearn: 0.1881137\ttotal: 2m 26s\tremaining: 1m 2s\n",
      "800:\tlearn: 0.1807218\ttotal: 2m 47s\tremaining: 41.5s\n",
      "900:\tlearn: 0.1734661\ttotal: 3m 7s\tremaining: 20.6s\n",
      "999:\tlearn: 0.1671286\ttotal: 3m 27s\tremaining: 0us\n",
      "XGBClassifier\n",
      "Dummy\n",
      "CatBoost\n",
      "Learning rate set to 0.037171\n",
      "0:\tlearn: 0.6541016\ttotal: 196ms\tremaining: 3m 15s\n",
      "100:\tlearn: 0.2713743\ttotal: 22.4s\tremaining: 3m 19s\n",
      "200:\tlearn: 0.2423908\ttotal: 44.1s\tremaining: 2m 55s\n",
      "300:\tlearn: 0.2241215\ttotal: 1m 5s\tremaining: 2m 32s\n",
      "400:\tlearn: 0.2097581\ttotal: 1m 26s\tremaining: 2m 9s\n",
      "500:\tlearn: 0.1977259\ttotal: 1m 47s\tremaining: 1m 46s\n",
      "600:\tlearn: 0.1881504\ttotal: 2m 7s\tremaining: 1m 24s\n",
      "700:\tlearn: 0.1797749\ttotal: 2m 28s\tremaining: 1m 3s\n",
      "800:\tlearn: 0.1723716\ttotal: 2m 48s\tremaining: 41.8s\n",
      "900:\tlearn: 0.1655072\ttotal: 3m 8s\tremaining: 20.7s\n",
      "999:\tlearn: 0.1591268\ttotal: 3m 28s\tremaining: 0us\n",
      "XGBClassifier\n",
      "Dummy\n",
      "CatBoost\n",
      "Learning rate set to 0.044626\n",
      "0:\tlearn: 0.6152284\ttotal: 140ms\tremaining: 2m 20s\n",
      "100:\tlearn: 0.1062865\ttotal: 15.4s\tremaining: 2m 17s\n",
      "200:\tlearn: 0.0818763\ttotal: 30.9s\tremaining: 2m 2s\n",
      "300:\tlearn: 0.0698406\ttotal: 46.4s\tremaining: 1m 47s\n",
      "400:\tlearn: 0.0619446\ttotal: 1m 1s\tremaining: 1m 32s\n",
      "500:\tlearn: 0.0560991\ttotal: 1m 17s\tremaining: 1m 17s\n",
      "600:\tlearn: 0.0521220\ttotal: 1m 33s\tremaining: 1m 1s\n",
      "700:\tlearn: 0.0486506\ttotal: 1m 48s\tremaining: 46.4s\n",
      "800:\tlearn: 0.0459683\ttotal: 2m 4s\tremaining: 30.8s\n",
      "900:\tlearn: 0.0435989\ttotal: 2m 19s\tremaining: 15.3s\n",
      "999:\tlearn: 0.0415625\ttotal: 2m 35s\tremaining: 0us\n",
      "XGBClassifier\n"
     ]
    }
   ],
   "source": [
    "targets = ['err','correct','completed', 'type_error']\n",
    "for i in tqdm(range(len(targets))):\n",
    "\n",
    "    _report = []\n",
    "    # Готовим данные\n",
    "    X_train, X_test, y_train, y_test = prepare_data( target = [targets[i]] )\n",
    "    \n",
    "    \n",
    "    X_train, y_train = smart_upsampling(X_train,y_train)\n",
    "    \n",
    "    print('Dummy')\n",
    "\n",
    "    # Обучаем кукольную модель\n",
    "    _report += dummy_test(X_train, X_test, y_train, y_test)\n",
    "    \n",
    "    print('CatBoost')\n",
    "    # Обучаем CatBoost\n",
    "    clf = CatBoostClassifier(\n",
    "    loss_function='MultiCrossEntropy',\n",
    "    iterations=1000,\n",
    "    depth = 4,\n",
    "    random_state = 42\n",
    "    )\n",
    "    \n",
    "    clf.fit(X_train, y_train,  plot=False, verbose=100)\n",
    "\n",
    "    y_pred = clf.predict(X_test)\n",
    "    _report += [score_report(y_test, y_pred, model_name = 'CatBosst')]\n",
    "    \n",
    "    print('XGBClassifier')\n",
    "    # Обучаем XGBClassifier\n",
    "    model = xgb.XGBClassifier( random_state = 42, verbosity = 0)\n",
    "    model.fit(X_train.to_numpy(), y_train.to_numpy())\n",
    "\n",
    "    y_pred = model.predict(X_test.to_numpy())\n",
    "    _report += [score_report(y_test, y_pred, model_name = 'XGBClassifier')]\n",
    "    \n",
    "    # Записываем всё в свловарь\n",
    "    total_report[targets[i]] = _report\n",
    "\n"
   ]
  },
  {
   "cell_type": "markdown",
   "metadata": {},
   "source": [
    "Попробуем предсказать элементы, выполненные с ошибками."
   ]
  },
  {
   "cell_type": "code",
   "execution_count": 98,
   "metadata": {},
   "outputs": [
    {
     "data": {
      "text/html": [
       "<div>\n",
       "<style scoped>\n",
       "    .dataframe tbody tr th:only-of-type {\n",
       "        vertical-align: middle;\n",
       "    }\n",
       "\n",
       "    .dataframe tbody tr th {\n",
       "        vertical-align: top;\n",
       "    }\n",
       "\n",
       "    .dataframe thead th {\n",
       "        text-align: right;\n",
       "    }\n",
       "</style>\n",
       "<table border=\"1\" class=\"dataframe\">\n",
       "  <thead>\n",
       "    <tr style=\"text-align: right;\">\n",
       "      <th></th>\n",
       "      <th>Model</th>\n",
       "      <th>f1</th>\n",
       "      <th>acc</th>\n",
       "      <th>precision</th>\n",
       "      <th>recall</th>\n",
       "      <th>roc-auc</th>\n",
       "    </tr>\n",
       "  </thead>\n",
       "  <tbody>\n",
       "    <tr>\n",
       "      <th>0</th>\n",
       "      <td>Dummy (most_frequent)</td>\n",
       "      <td>0.00</td>\n",
       "      <td>0.91</td>\n",
       "      <td>0.00</td>\n",
       "      <td>1.00</td>\n",
       "      <td>0.50</td>\n",
       "    </tr>\n",
       "    <tr>\n",
       "      <th>1</th>\n",
       "      <td>Dummy (prior)</td>\n",
       "      <td>0.00</td>\n",
       "      <td>0.91</td>\n",
       "      <td>0.00</td>\n",
       "      <td>1.00</td>\n",
       "      <td>0.50</td>\n",
       "    </tr>\n",
       "    <tr>\n",
       "      <th>5</th>\n",
       "      <td>Dummy (constant_0)</td>\n",
       "      <td>0.00</td>\n",
       "      <td>0.91</td>\n",
       "      <td>0.00</td>\n",
       "      <td>1.00</td>\n",
       "      <td>0.50</td>\n",
       "    </tr>\n",
       "    <tr>\n",
       "      <th>4</th>\n",
       "      <td>Dummy (constant_1)</td>\n",
       "      <td>0.16</td>\n",
       "      <td>0.09</td>\n",
       "      <td>1.00</td>\n",
       "      <td>0.09</td>\n",
       "      <td>0.50</td>\n",
       "    </tr>\n",
       "    <tr>\n",
       "      <th>3</th>\n",
       "      <td>Dummy (uniform)</td>\n",
       "      <td>0.18</td>\n",
       "      <td>0.50</td>\n",
       "      <td>0.51</td>\n",
       "      <td>0.09</td>\n",
       "      <td>0.51</td>\n",
       "    </tr>\n",
       "    <tr>\n",
       "      <th>2</th>\n",
       "      <td>Dummy (stratified)</td>\n",
       "      <td>0.34</td>\n",
       "      <td>0.82</td>\n",
       "      <td>0.11</td>\n",
       "      <td>0.09</td>\n",
       "      <td>0.49</td>\n",
       "    </tr>\n",
       "    <tr>\n",
       "      <th>6</th>\n",
       "      <td>CatBosst</td>\n",
       "      <td>0.35</td>\n",
       "      <td>0.93</td>\n",
       "      <td>0.22</td>\n",
       "      <td>0.66</td>\n",
       "      <td>0.60</td>\n",
       "    </tr>\n",
       "    <tr>\n",
       "      <th>7</th>\n",
       "      <td>XGBClassifier</td>\n",
       "      <td>0.41</td>\n",
       "      <td>0.93</td>\n",
       "      <td>0.25</td>\n",
       "      <td>0.57</td>\n",
       "      <td>0.61</td>\n",
       "    </tr>\n",
       "  </tbody>\n",
       "</table>\n",
       "</div>"
      ],
      "text/plain": [
       "                   Model    f1   acc  precision  recall  roc-auc\n",
       "0  Dummy (most_frequent)  0.00  0.91       0.00    1.00     0.50\n",
       "1          Dummy (prior)  0.00  0.91       0.00    1.00     0.50\n",
       "5     Dummy (constant_0)  0.00  0.91       0.00    1.00     0.50\n",
       "4     Dummy (constant_1)  0.16  0.09       1.00    0.09     0.50\n",
       "3        Dummy (uniform)  0.18  0.50       0.51    0.09     0.51\n",
       "2     Dummy (stratified)  0.34  0.82       0.11    0.09     0.49\n",
       "6               CatBosst  0.35  0.93       0.22    0.66     0.60\n",
       "7          XGBClassifier  0.41  0.93       0.25    0.57     0.61"
      ]
     },
     "execution_count": 98,
     "metadata": {},
     "output_type": "execute_result"
    }
   ],
   "source": [
    "make_report(total_report['err'])"
   ]
  },
  {
   "cell_type": "markdown",
   "metadata": {},
   "source": [
    "Мы можем заметить, что модели в целом плохо справляются с этим предсказанием. Притом CatBoost справился хуже даже кукольной модели, но XGBClassifier справился лучше.\n",
    "\n",
    "Теперь посмотрим как модели справились с предсказанием правильно выполненных элементов."
   ]
  },
  {
   "cell_type": "code",
   "execution_count": 99,
   "metadata": {},
   "outputs": [
    {
     "data": {
      "text/html": [
       "<div>\n",
       "<style scoped>\n",
       "    .dataframe tbody tr th:only-of-type {\n",
       "        vertical-align: middle;\n",
       "    }\n",
       "\n",
       "    .dataframe tbody tr th {\n",
       "        vertical-align: top;\n",
       "    }\n",
       "\n",
       "    .dataframe thead th {\n",
       "        text-align: right;\n",
       "    }\n",
       "</style>\n",
       "<table border=\"1\" class=\"dataframe\">\n",
       "  <thead>\n",
       "    <tr style=\"text-align: right;\">\n",
       "      <th></th>\n",
       "      <th>Model</th>\n",
       "      <th>f1</th>\n",
       "      <th>acc</th>\n",
       "      <th>precision</th>\n",
       "      <th>recall</th>\n",
       "      <th>roc-auc</th>\n",
       "    </tr>\n",
       "  </thead>\n",
       "  <tbody>\n",
       "    <tr>\n",
       "      <th>5</th>\n",
       "      <td>Dummy (constant_0)</td>\n",
       "      <td>0.00</td>\n",
       "      <td>0.73</td>\n",
       "      <td>0.00</td>\n",
       "      <td>1.00</td>\n",
       "      <td>0.5</td>\n",
       "    </tr>\n",
       "    <tr>\n",
       "      <th>0</th>\n",
       "      <td>Dummy (most_frequent)</td>\n",
       "      <td>0.05</td>\n",
       "      <td>0.76</td>\n",
       "      <td>0.06</td>\n",
       "      <td>0.98</td>\n",
       "      <td>0.5</td>\n",
       "    </tr>\n",
       "    <tr>\n",
       "      <th>1</th>\n",
       "      <td>Dummy (prior)</td>\n",
       "      <td>0.05</td>\n",
       "      <td>0.76</td>\n",
       "      <td>0.06</td>\n",
       "      <td>0.98</td>\n",
       "      <td>0.5</td>\n",
       "    </tr>\n",
       "    <tr>\n",
       "      <th>2</th>\n",
       "      <td>Dummy (stratified)</td>\n",
       "      <td>0.27</td>\n",
       "      <td>0.64</td>\n",
       "      <td>0.29</td>\n",
       "      <td>0.27</td>\n",
       "      <td>0.5</td>\n",
       "    </tr>\n",
       "    <tr>\n",
       "      <th>3</th>\n",
       "      <td>Dummy (uniform)</td>\n",
       "      <td>0.32</td>\n",
       "      <td>0.50</td>\n",
       "      <td>0.50</td>\n",
       "      <td>0.27</td>\n",
       "      <td>0.5</td>\n",
       "    </tr>\n",
       "    <tr>\n",
       "      <th>4</th>\n",
       "      <td>Dummy (constant_1)</td>\n",
       "      <td>0.40</td>\n",
       "      <td>0.27</td>\n",
       "      <td>1.00</td>\n",
       "      <td>0.27</td>\n",
       "      <td>0.5</td>\n",
       "    </tr>\n",
       "    <tr>\n",
       "      <th>6</th>\n",
       "      <td>CatBosst</td>\n",
       "      <td>0.69</td>\n",
       "      <td>0.88</td>\n",
       "      <td>0.67</td>\n",
       "      <td>0.74</td>\n",
       "      <td>0.8</td>\n",
       "    </tr>\n",
       "    <tr>\n",
       "      <th>7</th>\n",
       "      <td>XGBClassifier</td>\n",
       "      <td>0.70</td>\n",
       "      <td>0.88</td>\n",
       "      <td>0.68</td>\n",
       "      <td>0.73</td>\n",
       "      <td>0.8</td>\n",
       "    </tr>\n",
       "  </tbody>\n",
       "</table>\n",
       "</div>"
      ],
      "text/plain": [
       "                   Model    f1   acc  precision  recall  roc-auc\n",
       "5     Dummy (constant_0)  0.00  0.73       0.00    1.00      0.5\n",
       "0  Dummy (most_frequent)  0.05  0.76       0.06    0.98      0.5\n",
       "1          Dummy (prior)  0.05  0.76       0.06    0.98      0.5\n",
       "2     Dummy (stratified)  0.27  0.64       0.29    0.27      0.5\n",
       "3        Dummy (uniform)  0.32  0.50       0.50    0.27      0.5\n",
       "4     Dummy (constant_1)  0.40  0.27       1.00    0.27      0.5\n",
       "6               CatBosst  0.69  0.88       0.67    0.74      0.8\n",
       "7          XGBClassifier  0.70  0.88       0.68    0.73      0.8"
      ]
     },
     "execution_count": 99,
     "metadata": {},
     "output_type": "execute_result"
    }
   ],
   "source": [
    "make_report(total_report['correct'])"
   ]
  },
  {
   "cell_type": "markdown",
   "metadata": {},
   "source": [
    "Обе модели - CatBosst и XGBClassifier справились лучше кукольных моделей. При этом, мы имеем довольно неплохие результаты.\n",
    "\n",
    "Теперь посмотрим на предсказание того, будет ли спортсмен в принципе выполнять тот или иной элемент."
   ]
  },
  {
   "cell_type": "code",
   "execution_count": 100,
   "metadata": {},
   "outputs": [
    {
     "data": {
      "text/html": [
       "<div>\n",
       "<style scoped>\n",
       "    .dataframe tbody tr th:only-of-type {\n",
       "        vertical-align: middle;\n",
       "    }\n",
       "\n",
       "    .dataframe tbody tr th {\n",
       "        vertical-align: top;\n",
       "    }\n",
       "\n",
       "    .dataframe thead th {\n",
       "        text-align: right;\n",
       "    }\n",
       "</style>\n",
       "<table border=\"1\" class=\"dataframe\">\n",
       "  <thead>\n",
       "    <tr style=\"text-align: right;\">\n",
       "      <th></th>\n",
       "      <th>Model</th>\n",
       "      <th>f1</th>\n",
       "      <th>acc</th>\n",
       "      <th>precision</th>\n",
       "      <th>recall</th>\n",
       "      <th>roc-auc</th>\n",
       "    </tr>\n",
       "  </thead>\n",
       "  <tbody>\n",
       "    <tr>\n",
       "      <th>5</th>\n",
       "      <td>Dummy (constant_0)</td>\n",
       "      <td>0.00</td>\n",
       "      <td>0.70</td>\n",
       "      <td>0.00</td>\n",
       "      <td>1.00</td>\n",
       "      <td>0.50</td>\n",
       "    </tr>\n",
       "    <tr>\n",
       "      <th>0</th>\n",
       "      <td>Dummy (most_frequent)</td>\n",
       "      <td>0.09</td>\n",
       "      <td>0.73</td>\n",
       "      <td>0.11</td>\n",
       "      <td>0.96</td>\n",
       "      <td>0.50</td>\n",
       "    </tr>\n",
       "    <tr>\n",
       "      <th>1</th>\n",
       "      <td>Dummy (prior)</td>\n",
       "      <td>0.09</td>\n",
       "      <td>0.73</td>\n",
       "      <td>0.11</td>\n",
       "      <td>0.96</td>\n",
       "      <td>0.50</td>\n",
       "    </tr>\n",
       "    <tr>\n",
       "      <th>2</th>\n",
       "      <td>Dummy (stratified)</td>\n",
       "      <td>0.30</td>\n",
       "      <td>0.63</td>\n",
       "      <td>0.32</td>\n",
       "      <td>0.30</td>\n",
       "      <td>0.50</td>\n",
       "    </tr>\n",
       "    <tr>\n",
       "      <th>3</th>\n",
       "      <td>Dummy (uniform)</td>\n",
       "      <td>0.35</td>\n",
       "      <td>0.50</td>\n",
       "      <td>0.50</td>\n",
       "      <td>0.30</td>\n",
       "      <td>0.50</td>\n",
       "    </tr>\n",
       "    <tr>\n",
       "      <th>4</th>\n",
       "      <td>Dummy (constant_1)</td>\n",
       "      <td>0.44</td>\n",
       "      <td>0.30</td>\n",
       "      <td>1.00</td>\n",
       "      <td>0.30</td>\n",
       "      <td>0.50</td>\n",
       "    </tr>\n",
       "    <tr>\n",
       "      <th>6</th>\n",
       "      <td>CatBosst</td>\n",
       "      <td>0.72</td>\n",
       "      <td>0.88</td>\n",
       "      <td>0.70</td>\n",
       "      <td>0.77</td>\n",
       "      <td>0.81</td>\n",
       "    </tr>\n",
       "    <tr>\n",
       "      <th>7</th>\n",
       "      <td>XGBClassifier</td>\n",
       "      <td>0.72</td>\n",
       "      <td>0.89</td>\n",
       "      <td>0.70</td>\n",
       "      <td>0.76</td>\n",
       "      <td>0.81</td>\n",
       "    </tr>\n",
       "  </tbody>\n",
       "</table>\n",
       "</div>"
      ],
      "text/plain": [
       "                   Model    f1   acc  precision  recall  roc-auc\n",
       "5     Dummy (constant_0)  0.00  0.70       0.00    1.00     0.50\n",
       "0  Dummy (most_frequent)  0.09  0.73       0.11    0.96     0.50\n",
       "1          Dummy (prior)  0.09  0.73       0.11    0.96     0.50\n",
       "2     Dummy (stratified)  0.30  0.63       0.32    0.30     0.50\n",
       "3        Dummy (uniform)  0.35  0.50       0.50    0.30     0.50\n",
       "4     Dummy (constant_1)  0.44  0.30       1.00    0.30     0.50\n",
       "6               CatBosst  0.72  0.88       0.70    0.77     0.81\n",
       "7          XGBClassifier  0.72  0.89       0.70    0.76     0.81"
      ]
     },
     "execution_count": 100,
     "metadata": {},
     "output_type": "execute_result"
    }
   ],
   "source": [
    "make_report(total_report['completed'])"
   ]
  },
  {
   "cell_type": "markdown",
   "metadata": {},
   "source": [
    "Теперь посмотрим на предсказания того, какого типа ошибки допустит спортсмен."
   ]
  },
  {
   "cell_type": "code",
   "execution_count": 101,
   "metadata": {},
   "outputs": [
    {
     "data": {
      "text/html": [
       "<div>\n",
       "<style scoped>\n",
       "    .dataframe tbody tr th:only-of-type {\n",
       "        vertical-align: middle;\n",
       "    }\n",
       "\n",
       "    .dataframe tbody tr th {\n",
       "        vertical-align: top;\n",
       "    }\n",
       "\n",
       "    .dataframe thead th {\n",
       "        text-align: right;\n",
       "    }\n",
       "</style>\n",
       "<table border=\"1\" class=\"dataframe\">\n",
       "  <thead>\n",
       "    <tr style=\"text-align: right;\">\n",
       "      <th></th>\n",
       "      <th>Model</th>\n",
       "      <th>f1</th>\n",
       "      <th>acc</th>\n",
       "      <th>precision</th>\n",
       "      <th>recall</th>\n",
       "      <th>roc-auc</th>\n",
       "    </tr>\n",
       "  </thead>\n",
       "  <tbody>\n",
       "    <tr>\n",
       "      <th>5</th>\n",
       "      <td>Dummy (constant_0)</td>\n",
       "      <td>0.00</td>\n",
       "      <td>0.86</td>\n",
       "      <td>0.00</td>\n",
       "      <td>1.00</td>\n",
       "      <td>0.50</td>\n",
       "    </tr>\n",
       "    <tr>\n",
       "      <th>0</th>\n",
       "      <td>Dummy (most_frequent)</td>\n",
       "      <td>0.08</td>\n",
       "      <td>0.91</td>\n",
       "      <td>0.10</td>\n",
       "      <td>0.98</td>\n",
       "      <td>0.50</td>\n",
       "    </tr>\n",
       "    <tr>\n",
       "      <th>1</th>\n",
       "      <td>Dummy (prior)</td>\n",
       "      <td>0.08</td>\n",
       "      <td>0.91</td>\n",
       "      <td>0.10</td>\n",
       "      <td>0.98</td>\n",
       "      <td>0.50</td>\n",
       "    </tr>\n",
       "    <tr>\n",
       "      <th>4</th>\n",
       "      <td>Dummy (constant_1)</td>\n",
       "      <td>0.19</td>\n",
       "      <td>0.14</td>\n",
       "      <td>1.00</td>\n",
       "      <td>0.14</td>\n",
       "      <td>0.50</td>\n",
       "    </tr>\n",
       "    <tr>\n",
       "      <th>3</th>\n",
       "      <td>Dummy (uniform)</td>\n",
       "      <td>0.20</td>\n",
       "      <td>0.50</td>\n",
       "      <td>0.49</td>\n",
       "      <td>0.14</td>\n",
       "      <td>0.49</td>\n",
       "    </tr>\n",
       "    <tr>\n",
       "      <th>6</th>\n",
       "      <td>CatBosst</td>\n",
       "      <td>0.28</td>\n",
       "      <td>0.92</td>\n",
       "      <td>0.16</td>\n",
       "      <td>0.66</td>\n",
       "      <td>0.53</td>\n",
       "    </tr>\n",
       "    <tr>\n",
       "      <th>2</th>\n",
       "      <td>Dummy (stratified)</td>\n",
       "      <td>0.39</td>\n",
       "      <td>0.81</td>\n",
       "      <td>0.21</td>\n",
       "      <td>0.14</td>\n",
       "      <td>0.50</td>\n",
       "    </tr>\n",
       "    <tr>\n",
       "      <th>7</th>\n",
       "      <td>XGBClassifier</td>\n",
       "      <td>0.39</td>\n",
       "      <td>0.92</td>\n",
       "      <td>0.17</td>\n",
       "      <td>0.52</td>\n",
       "      <td>0.54</td>\n",
       "    </tr>\n",
       "  </tbody>\n",
       "</table>\n",
       "</div>"
      ],
      "text/plain": [
       "                   Model    f1   acc  precision  recall  roc-auc\n",
       "5     Dummy (constant_0)  0.00  0.86       0.00    1.00     0.50\n",
       "0  Dummy (most_frequent)  0.08  0.91       0.10    0.98     0.50\n",
       "1          Dummy (prior)  0.08  0.91       0.10    0.98     0.50\n",
       "4     Dummy (constant_1)  0.19  0.14       1.00    0.14     0.50\n",
       "3        Dummy (uniform)  0.20  0.50       0.49    0.14     0.49\n",
       "6               CatBosst  0.28  0.92       0.16    0.66     0.53\n",
       "2     Dummy (stratified)  0.39  0.81       0.21    0.14     0.50\n",
       "7          XGBClassifier  0.39  0.92       0.17    0.52     0.54"
      ]
     },
     "execution_count": 101,
     "metadata": {},
     "output_type": "execute_result"
    }
   ],
   "source": [
    "make_report(total_report['type_error'])"
   ]
  },
  {
   "cell_type": "markdown",
   "metadata": {},
   "source": [
    "Как мы видим, наша модель справилась не намного лучше кукольной, предсказать это очень сложно."
   ]
  },
  {
   "cell_type": "markdown",
   "metadata": {},
   "source": [
    "## Вывод"
   ]
  },
  {
   "cell_type": "markdown",
   "metadata": {},
   "source": [
    "Мы сумели выделить основные элементы фигурного катания и саггрегировать финальный датасет. \n",
    "\n",
    "Мы сумелм разделить датасет на обучающую и тестовую выборку. Мы предсказывали следующие вещи: какие элементы за весь турнир спорсмен хоть раз выполнит без ошибки, в каких элементах за весь турнир спорсмен хоть раз ошибётся, какие элементы в принципе спортсмен выполнит за турнир и какие конкретно ошибки допустит спортсмен. \n",
    "\n",
    "В качестве признаков брались результаты и элементы предыдущих турниров, в которых участвовал спортсмен, в этом плане задача внешне походит на временные ряды. \n",
    "\n",
    "Помимо обучения модели, мы провели \"проверку на адекватность\", используя кукольные модели (то есть такие, которые ставят случайный результат и так далее). \n",
    "\n",
    "Лучше всего модели способны предсказать элементы, которые в принципе выполнялись спортсменом (вне зависимости от результата), затем - корректно исполненные элементы. Очень плохо, но всё же лучше кукольных моделей, удалось предсказать какие элементы спортсмен выполнит с ошибкой, и вообще не удалось предсказать сами ошибки (лучший результат не отличается от кукольной модели).\n",
    "\n",
    "Лучшей моделью оказался XGBClassifier.\n",
    "\n",
    "Общий вывод, который можно сделать заключается в том, что в принципе задача решаемая, и при большем объёме данных (включающих в себя и те признаки, которые не попали в датасет, например физические характеристики спорсменов и так далее) можно добиться более или менее полезных результатов.\n",
    "\n"
   ]
  }
 ],
 "metadata": {
  "kernelspec": {
   "display_name": "Python 3",
   "language": "python",
   "name": "python3"
  },
  "language_info": {
   "codemirror_mode": {
    "name": "ipython",
    "version": 3
   },
   "file_extension": ".py",
   "mimetype": "text/x-python",
   "name": "python",
   "nbconvert_exporter": "python",
   "pygments_lexer": "ipython3",
   "version": "3.11.9"
  }
 },
 "nbformat": 4,
 "nbformat_minor": 2
}
